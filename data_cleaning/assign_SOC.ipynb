{
 "cells": [
  {
   "cell_type": "markdown",
   "metadata": {},
   "source": [
    "# Mappings between Job Titles and SOC Codes\n",
    "\n",
    "Online supplementary material to \"The Evolving U.S. Occupational Structure\" by Enghin Atalay, Phai Phongthiengtham, Sebastian Sotelo and Daniel Tannenbaum.\n",
    "\n",
    "* [Most recent version of the paper](\n",
    "http://ssc.wisc.edu/~eatalay/skills.pdf)\n",
    "\n",
    "* [Project data library](http://ssc.wisc.edu/~eatalay/occupation_data.html) \n",
    "\n",
    "* [GitHub repository](https://github.com/phaiptt125/newspaper_project)\n",
    "\n",
    "***"
   ]
  },
  {
   "cell_type": "markdown",
   "metadata": {},
   "source": [
    "This IPython notebook demonstrates how we map between job titles and SOC from newspaper text. \n",
    "\n",
    "* We use the continuous bag of words (CBOW) model previously constructed. See [here](https://github.com/phaiptt125/newspaper_project/blob/master/data_cleaning/CBOW.ipynb) for more detail. \n",
    "* See [here](http://ssc.wisc.edu/~eatalay/apst/apst_mapping.pdf) for more explanations.\n",
    "* See project data library for full results."
   ]
  },
  {
   "cell_type": "markdown",
   "metadata": {},
   "source": [
    "<b> Due to copyright restrictions, we are not authorized to publish a large body of newspaper text. </b>\n",
    "***"
   ]
  },
  {
   "cell_type": "markdown",
   "metadata": {},
   "source": [
    "## List of auxiliary files (see project data library or GitHub repository)\n",
    "\n",
    "* *\"title_substitute.py\"* : This python code edits job titles.\n",
    "* *\"word_substitutes.csv\"* : List of job title words substitution.\n",
    "* *\"phrase_substitutes.csv\"* : List of job title phrases substitution.\n",
    "\n",
    "Note: We manually look for most common job titles and list down the substitutions in *\"word_substitutes.csv\"* and *\"phrase_substitutes.csv\"*. "
   ]
  },
  {
   "cell_type": "code",
   "execution_count": 1,
   "metadata": {
    "collapsed": true
   },
   "outputs": [],
   "source": [
    "import os\n",
    "import re\n",
    "import sys\n",
    "import platform\n",
    "import collections\n",
    "import shutil\n",
    "\n",
    "import pandas as pd\n",
    "import math\n",
    "import multiprocessing\n",
    "import os.path\n",
    "import numpy as np\n",
    "from gensim import corpora, models\n",
    "from gensim.models import Word2Vec, keyedvectors \n",
    "from gensim.models.word2vec import LineSentence\n",
    "from sklearn.metrics.pairwise import cosine_similarity\n",
    "\n",
    "sys.path.append('./auxiliary files')\n",
    "\n",
    "from title_substitute import *"
   ]
  },
  {
   "cell_type": "markdown",
   "metadata": {},
   "source": [
    "## Edit job titles"
   ]
  },
  {
   "cell_type": "markdown",
   "metadata": {},
   "source": [
    "We first lightly edit job titles to reduce the number of unique titles: We convert all titles to lowercase and remove all non-alphanumeric characters; combine titles which are very similar to one another (e.g., replacing \"hostesses\" with \"host\"); replace plural nouns with their singular form (e.g., replacing \"nurses\" with \"nurse\", \"foremen\" with \"foreman\"); and remove abbreviations (e.g., replacing \"asst\" with \"assistant\", and \"customer service rep\" with \"customer service representative\"). "
   ]
  },
  {
   "cell_type": "code",
   "execution_count": 2,
   "metadata": {
    "collapsed": true
   },
   "outputs": [],
   "source": [
    "# import files for editing titles\n",
    "word_substitutes = io.open('word_substitutes.csv','r',encoding='utf-8',errors='ignore').read()\n",
    "word_substitutes = ''.join([w for w in word_substitutes if ord(w) < 127])\n",
    "word_substitutes = [w for w in re.split('\\n',word_substitutes) if not w=='']\n",
    " \n",
    "phrase_substitutes = io.open('phrase_substitutes.csv','r',encoding='utf-8',errors='ignore').read()\n",
    "phrase_substitutes = ''.join([w for w in phrase_substitutes if ord(w) < 127])\n",
    "phrase_substitutes = [w for w in re.split('\\n',phrase_substitutes) if not w=='']"
   ]
  },
  {
   "cell_type": "code",
   "execution_count": 3,
   "metadata": {},
   "outputs": [
    {
     "name": "stdout",
     "output_type": "stream",
     "text": [
      "original title = registered nurses\n",
      "edited title = registered nurse\n",
      "---\n",
      "original title = rn\n",
      "edited title = registered nurse\n",
      "---\n",
      "original title = hostesses\n",
      "edited title = host\n",
      "---\n",
      "original title = foremen\n",
      "edited title = foreman\n",
      "---\n",
      "original title = customer service rep\n",
      "edited title = customer service representative\n",
      "---\n"
     ]
    }
   ],
   "source": [
    "# some illustrations (see \"title_substitute.py\")\n",
    "\n",
    "list_job_titles = ['registered nurses',\n",
    "                   'rn', \n",
    "                   'hostesses',\n",
    "                   'foremen', \n",
    "                   'customer service rep']\n",
    "\n",
    "for title in list_job_titles: \n",
    "    title_clean = substitute_titles(title,word_substitutes,phrase_substitutes)\n",
    "    print('original title = ' + title)\n",
    "    print('edited title = ' + title_clean)\n",
    "    print('---')"
   ]
  },
  {
   "cell_type": "markdown",
   "metadata": {},
   "source": [
    "## Some technical issues\n",
    "\n",
    "* The procedure of replacing plural nouns with their singular form works in general:"
   ]
  },
  {
   "cell_type": "code",
   "execution_count": 4,
   "metadata": {},
   "outputs": [
    {
     "data": {
      "text/plain": [
       "'galaxy'"
      ]
     },
     "execution_count": 4,
     "metadata": {},
     "output_type": "execute_result"
    }
   ],
   "source": [
    "substitute_titles('galaxies',word_substitutes,phrase_substitutes)\n",
    "# Note: We do not supply the mapping from 'galaxies' to 'galaxy'."
   ]
  },
  {
   "cell_type": "markdown",
   "metadata": {},
   "source": [
    "* The procedure of replacing abbreviations, on the other hand, requires user-provided information, i.e., we list down most common substitutions. While we cannot possibly identify all abbreviations, we will use the continuous bag of word (CBOW) model later. Common abbreviations would have similar meanings as their original words. "
   ]
  },
  {
   "cell_type": "markdown",
   "metadata": {},
   "source": [
    "## Map job titles to SOC codes"
   ]
  },
  {
   "cell_type": "markdown",
   "metadata": {},
   "source": [
    "First, for the most common 1000 job titles, we map the titles to their SOC codes using ONET-SOC AutoCoder (see [here](http://www.onetsocautocoder.com/plus/onetmatch)). These mappings are retrieved manually. This results in a mapping between job titles\n",
    "and SOC codes for 3.9 million newspaper job ads.\n",
    "\n",
    "For the remaining ads, we apply a continuous bag of words (CBOW) model, in combination with online job vacancy postings, provided by Economic Modeling Specialists International (EMSI), containing a large correspondence between job titles and SOC codes. See [here](https://github.com/phaiptt125/online_job_posting/blob/master/data_cleaning/initial_cleaning.ipynb) for more information on how we pre-process online job vacancy postings.\n",
    "\n",
    "We extract information on job titles and SOC codes from one month of online job vacancy postings, January 2012, which results in 332,829 unique mappings between job titles and SOC codes:  "
   ]
  },
  {
   "cell_type": "code",
   "execution_count": 5,
   "metadata": {},
   "outputs": [
    {
     "name": "stdout",
     "output_type": "stream",
     "text": [
      "Total mappings = 332829\n"
     ]
    },
    {
     "data": {
      "text/html": [
       "<div>\n",
       "<style>\n",
       "    .dataframe thead tr:only-child th {\n",
       "        text-align: right;\n",
       "    }\n",
       "\n",
       "    .dataframe thead th {\n",
       "        text-align: left;\n",
       "    }\n",
       "\n",
       "    .dataframe tbody tr th {\n",
       "        vertical-align: top;\n",
       "    }\n",
       "</style>\n",
       "<table border=\"1\" class=\"dataframe\">\n",
       "  <thead>\n",
       "    <tr style=\"text-align: right;\">\n",
       "      <th></th>\n",
       "      <th>title</th>\n",
       "      <th>soc</th>\n",
       "    </tr>\n",
       "  </thead>\n",
       "  <tbody>\n",
       "    <tr>\n",
       "      <th>0</th>\n",
       "      <td>expeditor</td>\n",
       "      <td>435061</td>\n",
       "    </tr>\n",
       "    <tr>\n",
       "      <th>1</th>\n",
       "      <td>coach project</td>\n",
       "      <td>119199</td>\n",
       "    </tr>\n",
       "    <tr>\n",
       "      <th>2</th>\n",
       "      <td>entry full level management provided training</td>\n",
       "      <td>411012</td>\n",
       "    </tr>\n",
       "    <tr>\n",
       "      <th>3</th>\n",
       "      <td>customer professional service</td>\n",
       "      <td>434051</td>\n",
       "    </tr>\n",
       "    <tr>\n",
       "      <th>4</th>\n",
       "      <td>coordinator patient service</td>\n",
       "      <td>434051</td>\n",
       "    </tr>\n",
       "  </tbody>\n",
       "</table>\n",
       "</div>"
      ],
      "text/plain": [
       "                                           title     soc\n",
       "0                                      expeditor  435061\n",
       "1                                  coach project  119199\n",
       "2  entry full level management provided training  411012\n",
       "3                  customer professional service  434051\n",
       "4                    coordinator patient service  434051"
      ]
     },
     "execution_count": 5,
     "metadata": {},
     "output_type": "execute_result"
    }
   ],
   "source": [
    "title2SOC_filename = 'online_postings_title2SOC.txt'\n",
    "\n",
    "# import into pandas dataframe\n",
    "title2SOC = pd.read_csv(title2SOC_filename, sep = '\\t', names = ['title','soc'])\n",
    "\n",
    "# print number of total mappings\n",
    "print('Total mappings = ' + str(len(title2SOC)))\n",
    "\n",
    "title2SOC = title2SOC.head(100)\n",
    "\n",
    "# implement the same title editing procedure illustrated above\n",
    "title2SOC['title'] = title2SOC['title'].apply(lambda x: substitute_titles(x,word_substitutes,phrase_substitutes))\n",
    "\n",
    "# print some examples\n",
    "title2SOC.head()"
   ]
  },
  {
   "cell_type": "markdown",
   "metadata": {
    "collapsed": true
   },
   "source": [
    "## Compute a vector representation of each job title"
   ]
  },
  {
   "cell_type": "markdown",
   "metadata": {},
   "source": [
    "Next, we apply the CBOW model previously constructed to represent each job title with a vector. In the actual implementation, we set our dimension of the CBOW model to be 300, as explained [here](https://github.com/phaiptt125/newspaper_project/blob/master/data_cleaning/CBOW.ipynb). \n",
    "\n",
    "For illustrative purposes, however, this IPython notebook provides examples using the CBOW model with the dimension of 5. The embedded code below illustrates how we construct this CBOW model:"
   ]
  },
  {
   "cell_type": "markdown",
   "metadata": {},
   "source": [
    "***\n",
    "    model = Word2Vec(LineSentence(open('ad_combined.txt')), size = 5, window = 5, min_count = 5, workers = multiprocessing.cpu_count())\n",
    "    \n",
    "    model.save('cbow_small.model')\n",
    "***"
   ]
  },
  {
   "cell_type": "code",
   "execution_count": 6,
   "metadata": {
    "collapsed": true
   },
   "outputs": [],
   "source": [
    "model = Word2Vec.load('cbow_small.model')\n",
    "# 'cbow_small.model' has dimension of 5.\n",
    "# In the actual implementation, we use our previously constructed 'cbow.model', which has dimension of 300.  "
   ]
  },
  {
   "cell_type": "markdown",
   "metadata": {},
   "source": [
    "* The model provides a vector representation of each word in the corpus. For example:"
   ]
  },
  {
   "cell_type": "code",
   "execution_count": 7,
   "metadata": {},
   "outputs": [
    {
     "data": {
      "text/plain": [
       "array([-0.23945422, -0.33969662, -0.25194243,  0.86623007,  0.11592443], dtype=float32)"
      ]
     },
     "execution_count": 7,
     "metadata": {},
     "output_type": "execute_result"
    }
   ],
   "source": [
    "model['customer']"
   ]
  },
  {
   "cell_type": "code",
   "execution_count": 8,
   "metadata": {},
   "outputs": [
    {
     "data": {
      "text/plain": [
       "array([-0.37457037, -0.43614858,  0.05933725,  0.80807394,  0.11387233], dtype=float32)"
      ]
     },
     "execution_count": 8,
     "metadata": {},
     "output_type": "execute_result"
    }
   ],
   "source": [
    "model['professional']"
   ]
  },
  {
   "cell_type": "code",
   "execution_count": 9,
   "metadata": {},
   "outputs": [
    {
     "data": {
      "text/plain": [
       "array([-0.30502519, -0.39435992, -0.19132054,  0.81630003,  0.22020572], dtype=float32)"
      ]
     },
     "execution_count": 9,
     "metadata": {},
     "output_type": "execute_result"
    }
   ],
   "source": [
    "model['service']"
   ]
  },
  {
   "cell_type": "markdown",
   "metadata": {},
   "source": [
    "* We compute a vector represenation of \"customer professional service\": "
   ]
  },
  {
   "cell_type": "code",
   "execution_count": 10,
   "metadata": {},
   "outputs": [
    {
     "data": {
      "text/plain": [
       "array([-0.91904974, -1.17020512, -0.38392574,  2.49060392,  0.45000249], dtype=float32)"
      ]
     },
     "execution_count": 10,
     "metadata": {},
     "output_type": "execute_result"
    }
   ],
   "source": [
    "vector_title = model['customer'] + model['professional'] + model['service']\n",
    "vector_title"
   ]
  },
  {
   "cell_type": "markdown",
   "metadata": {},
   "source": [
    "As such, we can compute a vector represenation of:\n",
    "1. All job titles from our newspaper data.\n",
    "2. All job titles from online job vacancy postings in January 2012."
   ]
  },
  {
   "cell_type": "markdown",
   "metadata": {},
   "source": [
    "## Map newspaper job titles to online posting job titles"
   ]
  },
  {
   "cell_type": "markdown",
   "metadata": {},
   "source": [
    "We assign the \"closest\" online posting job title, where a corresponding SOC code is available, to each of the newspaper job title. We use cosine similarity as a measure of how two vectors are similar to each other. As the cosine function gives the value between 0 and 1, the closer value to 1 means the two vectors are closer to each other. "
   ]
  },
  {
   "cell_type": "markdown",
   "metadata": {},
   "source": [
    "* Suppose we have \"client representative\" as a newspaper job title, we assign a vector of:  "
   ]
  },
  {
   "cell_type": "code",
   "execution_count": 11,
   "metadata": {},
   "outputs": [
    {
     "data": {
      "text/plain": [
       "array([-1.26642871, -0.56747955, -0.3570725 ,  1.08817148,  0.34984976], dtype=float32)"
      ]
     },
     "execution_count": 11,
     "metadata": {},
     "output_type": "execute_result"
    }
   ],
   "source": [
    "vector_to_match = model['client'] + model['representative']\n",
    "vector_to_match"
   ]
  },
  {
   "cell_type": "markdown",
   "metadata": {},
   "source": [
    "* The cosine similarity of \"client representative\" and \"customer professional service\" is:  "
   ]
  },
  {
   "cell_type": "code",
   "execution_count": 12,
   "metadata": {},
   "outputs": [
    {
     "data": {
      "text/plain": [
       "array([[ 0.89043331]], dtype=float32)"
      ]
     },
     "execution_count": 12,
     "metadata": {},
     "output_type": "execute_result"
    }
   ],
   "source": [
    "vector_title = model['customer'] + model['professional'] + model['service']\n",
    "cosine_similarity(vector_to_match.reshape(1,-1), vector_title.reshape(1,-1))"
   ]
  },
  {
   "cell_type": "markdown",
   "metadata": {},
   "source": [
    "* The cosine similarity of \"client representative\" and \"mechanical engineer\" is:"
   ]
  },
  {
   "cell_type": "code",
   "execution_count": 13,
   "metadata": {},
   "outputs": [
    {
     "data": {
      "text/plain": [
       "array([[ 0.40693504]], dtype=float32)"
      ]
     },
     "execution_count": 13,
     "metadata": {},
     "output_type": "execute_result"
    }
   ],
   "source": [
    "vector_title = model['mechanical'] + model['engineer']\n",
    "cosine_similarity(vector_to_match.reshape(1,-1), vector_title.reshape(1,-1))"
   ]
  },
  {
   "cell_type": "markdown",
   "metadata": {},
   "source": [
    "* The cosine similarity of \"client representative\" and \"executive secretary\" is:"
   ]
  },
  {
   "cell_type": "code",
   "execution_count": 14,
   "metadata": {},
   "outputs": [
    {
     "data": {
      "text/plain": [
       "array([[ 0.39240193]], dtype=float32)"
      ]
     },
     "execution_count": 14,
     "metadata": {},
     "output_type": "execute_result"
    }
   ],
   "source": [
    "vector_title = model['executive'] + model['secretary']\n",
    "cosine_similarity(vector_to_match.reshape(1,-1), vector_title.reshape(1,-1))"
   ]
  },
  {
   "cell_type": "markdown",
   "metadata": {},
   "source": [
    "Therefore, using the CBOW model, we conclude that \"client representative\" has a closer meaning to \"customer professional service\" than both \"mechanical engineer\" and \"executive secretary\".   \n",
    "\n",
    "In the actual implementation, we compute the cosine similarity of \"client representative\" to all 332,829 job titles from online job vacancy postings in January 2012. This computation, however, cannot be done in this IPython notebook. "
   ]
  },
  {
   "cell_type": "markdown",
   "metadata": {},
   "source": [
    "## Assign SOC codes to newspaper job titles\n",
    "\n",
    "Once we identify the closest job title from online vacancy postings, we  then proceed to assign the same SOC to the newspaper job title. It turns out that \"client representative service\" has the closest vector representation to \"client representative\", so we assign SOC code of \"client representative\" to be the same as \"client representative service\".   "
   ]
  },
  {
   "cell_type": "code",
   "execution_count": 15,
   "metadata": {},
   "outputs": [
    {
     "data": {
      "text/plain": [
       "array([[ 0.98711061]], dtype=float32)"
      ]
     },
     "execution_count": 15,
     "metadata": {},
     "output_type": "execute_result"
    }
   ],
   "source": [
    "vector_title = model['client'] + model['representative'] + model['service']\n",
    "cosine_similarity(vector_to_match.reshape(1,-1), vector_title.reshape(1,-1))"
   ]
  },
  {
   "cell_type": "code",
   "execution_count": 16,
   "metadata": {},
   "outputs": [
    {
     "data": {
      "text/html": [
       "<div>\n",
       "<style>\n",
       "    .dataframe thead tr:only-child th {\n",
       "        text-align: right;\n",
       "    }\n",
       "\n",
       "    .dataframe thead th {\n",
       "        text-align: left;\n",
       "    }\n",
       "\n",
       "    .dataframe tbody tr th {\n",
       "        vertical-align: top;\n",
       "    }\n",
       "</style>\n",
       "<table border=\"1\" class=\"dataframe\">\n",
       "  <thead>\n",
       "    <tr style=\"text-align: right;\">\n",
       "      <th></th>\n",
       "      <th>title</th>\n",
       "      <th>soc</th>\n",
       "    </tr>\n",
       "  </thead>\n",
       "  <tbody>\n",
       "    <tr>\n",
       "      <th>12</th>\n",
       "      <td>client representative service</td>\n",
       "      <td>434051</td>\n",
       "    </tr>\n",
       "  </tbody>\n",
       "</table>\n",
       "</div>"
      ],
      "text/plain": [
       "                            title     soc\n",
       "12  client representative service  434051"
      ]
     },
     "execution_count": 16,
     "metadata": {},
     "output_type": "execute_result"
    }
   ],
   "source": [
    "title2SOC[title2SOC['title'] == \"client representative service\"]"
   ]
  },
  {
   "cell_type": "markdown",
   "metadata": {},
   "source": [
    "* The example above, \"customer professional service\", also maps to the same SOC code."
   ]
  },
  {
   "cell_type": "code",
   "execution_count": 17,
   "metadata": {},
   "outputs": [
    {
     "data": {
      "text/html": [
       "<div>\n",
       "<style>\n",
       "    .dataframe thead tr:only-child th {\n",
       "        text-align: right;\n",
       "    }\n",
       "\n",
       "    .dataframe thead th {\n",
       "        text-align: left;\n",
       "    }\n",
       "\n",
       "    .dataframe tbody tr th {\n",
       "        vertical-align: top;\n",
       "    }\n",
       "</style>\n",
       "<table border=\"1\" class=\"dataframe\">\n",
       "  <thead>\n",
       "    <tr style=\"text-align: right;\">\n",
       "      <th></th>\n",
       "      <th>title</th>\n",
       "      <th>soc</th>\n",
       "    </tr>\n",
       "  </thead>\n",
       "  <tbody>\n",
       "    <tr>\n",
       "      <th>3</th>\n",
       "      <td>customer professional service</td>\n",
       "      <td>434051</td>\n",
       "    </tr>\n",
       "  </tbody>\n",
       "</table>\n",
       "</div>"
      ],
      "text/plain": [
       "                           title     soc\n",
       "3  customer professional service  434051"
      ]
     },
     "execution_count": 17,
     "metadata": {},
     "output_type": "execute_result"
    }
   ],
   "source": [
    "title2SOC[title2SOC['title'] == \"customer professional service\"]"
   ]
  },
  {
   "cell_type": "markdown",
   "metadata": {},
   "source": [
    "## Some technical issues"
   ]
  },
  {
   "cell_type": "markdown",
   "metadata": {},
   "source": [
    "* We ignore job title words that are not in our CBOW model. \n",
    "* Unlike the LDA model, we do not stem words. As a result, the model considers different forms of a word as different words, e.g., \"manage\" and \"management\". However, our CBOW model generally assign similar vector representation, for example: "
   ]
  },
  {
   "cell_type": "code",
   "execution_count": 18,
   "metadata": {},
   "outputs": [
    {
     "data": {
      "text/plain": [
       "array([[ 0.92724895]], dtype=float32)"
      ]
     },
     "execution_count": 18,
     "metadata": {},
     "output_type": "execute_result"
    }
   ],
   "source": [
    "cosine_similarity(model['manage'].reshape(1,-1), model['management'].reshape(1,-1))"
   ]
  },
  {
   "cell_type": "markdown",
   "metadata": {},
   "source": [
    "* Our procedure is invariant to the order of job title words, e.g., we consider \"executive secretary\" and \"secretary executive\" as the same title. "
   ]
  },
  {
   "cell_type": "code",
   "execution_count": 19,
   "metadata": {},
   "outputs": [
    {
     "data": {
      "text/plain": [
       "array([-0.5665881 , -0.73142403,  0.72307652, -0.10102642,  1.02186275], dtype=float32)"
      ]
     },
     "execution_count": 19,
     "metadata": {},
     "output_type": "execute_result"
    }
   ],
   "source": [
    "model['executive'] + model['secretary']"
   ]
  },
  {
   "cell_type": "code",
   "execution_count": 20,
   "metadata": {},
   "outputs": [
    {
     "data": {
      "text/plain": [
       "array([-0.5665881 , -0.73142403,  0.72307652, -0.10102642,  1.02186275], dtype=float32)"
      ]
     },
     "execution_count": 20,
     "metadata": {},
     "output_type": "execute_result"
    }
   ],
   "source": [
    "model['secretary'] + model['executive']"
   ]
  },
  {
   "cell_type": "markdown",
   "metadata": {},
   "source": [
    "* Common abbreviations would have similar meanings as their original words. For instance, \"rn\" is a common abbreviation for \"registered nurse\", as a result, our CBOW model assigns very similar vector representation:   "
   ]
  },
  {
   "cell_type": "code",
   "execution_count": 21,
   "metadata": {},
   "outputs": [
    {
     "data": {
      "text/plain": [
       "array([[ 0.98632824]], dtype=float32)"
      ]
     },
     "execution_count": 21,
     "metadata": {},
     "output_type": "execute_result"
    }
   ],
   "source": [
    "vector_title = model['registered'] + model['nurse']\n",
    "cosine_similarity(model['rn'].reshape(1,-1), vector_title.reshape(1,-1))"
   ]
  }
 ],
 "metadata": {
  "kernelspec": {
   "display_name": "Python 3",
   "language": "python",
   "name": "python3"
  },
  "language_info": {
   "codemirror_mode": {
    "name": "ipython",
    "version": 3
   },
   "file_extension": ".py",
   "mimetype": "text/x-python",
   "name": "python",
   "nbconvert_exporter": "python",
   "pygments_lexer": "ipython3",
   "version": "3.6.1"
  }
 },
 "nbformat": 4,
 "nbformat_minor": 2
}
