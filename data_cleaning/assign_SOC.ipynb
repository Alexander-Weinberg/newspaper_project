{
 "cells": [
  {
   "cell_type": "markdown",
   "metadata": {},
   "source": [
    "# Mappings between Job Titles and SOC Codes\n",
    "\n",
    "Online supplementary material to \"The Evolving U.S. Occupational Structure\" by Enghin Atalay, Phai Phongthiengtham, Sebastian Sotelo and Daniel Tannenbaum.\n",
    "\n",
    "* [Most recent version of the paper](\n",
    "http://ssc.wisc.edu/~eatalay/skills.pdf)\n",
    "\n",
    "* [Project data library](http://ssc.wisc.edu/~eatalay/occupation_data.html) \n",
    "\n",
    "* [GitHub repository](https://github.com/phaiptt125/newspaper_project)\n",
    "\n",
    "***"
   ]
  },
  {
   "cell_type": "markdown",
   "metadata": {},
   "source": [
    "This IPython notebook demonstrates how we map between job titles and SOC from newspaper text. \n",
    "\n",
    "* We use the continuous bag of words (CBOW) model previously constructed. See [here](https://github.com/phaiptt125/newspaper_project/blob/master/data_cleaning/CBOW.ipynb) for more detail. \n",
    "* See [here](http://ssc.wisc.edu/~eatalay/apst/apst_mapping.pdf) for more explanations.\n",
    "* See project data library for full results."
   ]
  },
  {
   "cell_type": "markdown",
   "metadata": {},
   "source": [
    "<b> Due to copyright restrictions, we are not authorized to publish a large body of newspaper text. </b>\n",
    "***"
   ]
  },
  {
   "cell_type": "markdown",
   "metadata": {},
   "source": [
    "## List of auxiliary files (see project data library or GitHub repository)\n",
    "\n",
    "* *\"title_substitute.py\"* : This python code edits job titles.\n",
    "* *\"word_substitutes.csv\"* : List of job title words substitution.\n",
    "* *\"phrase_substitutes.csv\"* : List of job title phrases substitution.\n",
    "\n",
    "Note: We manually look for the most common job titles and list manually-coded substitutions in *\"word_substitutes.csv\"* and *\"phrase_substitutes.csv\"*. "
   ]
  },
  {
   "cell_type": "code",
   "execution_count": 1,
   "metadata": {
    "collapsed": true
   },
   "outputs": [],
   "source": [
    "import os\n",
    "import re\n",
    "import sys\n",
    "import platform\n",
    "import collections\n",
    "import shutil\n",
    "\n",
    "import pandas as pd\n",
    "import math\n",
    "import multiprocessing\n",
    "import os.path\n",
    "import numpy as np\n",
    "from gensim import corpora, models\n",
    "from gensim.models import Word2Vec, keyedvectors \n",
    "from gensim.models.word2vec import LineSentence\n",
    "from sklearn.metrics.pairwise import cosine_similarity\n",
    "\n",
    "sys.path.append('./auxiliary files')\n",
    "\n",
    "from title_substitute import *"
   ]
  },
  {
   "cell_type": "markdown",
   "metadata": {},
   "source": [
    "## Edit job titles"
   ]
  },
  {
   "cell_type": "markdown",
   "metadata": {},
   "source": [
    "We first lightly edit job titles to reduce the number of unique titles: We convert all titles to lowercase and remove all non-alphanumeric characters; combine titles which are very similar to one another (e.g., replacing \"hostesses\" with \"host\"); replace plural nouns with their singular form (e.g., replacing \"nurses\" with \"nurse\", \"foremen\" with \"foreman\"); and remove abbreviations (e.g., replacing \"asst\" with \"assistant\", and \"customer service rep\" with \"customer service representative\"). "
   ]
  },
  {
   "cell_type": "code",
   "execution_count": 2,
   "metadata": {
    "collapsed": true
   },
   "outputs": [],
   "source": [
    "# import files for editing titles\n",
    "word_substitutes = io.open('word_substitutes.csv','r',encoding='utf-8',errors='ignore').read()\n",
    "word_substitutes = ''.join([w for w in word_substitutes if ord(w) < 127])\n",
    "word_substitutes = [w for w in re.split('\\n',word_substitutes) if not w=='']\n",
    " \n",
    "phrase_substitutes = io.open('phrase_substitutes.csv','r',encoding='utf-8',errors='ignore').read()\n",
    "phrase_substitutes = ''.join([w for w in phrase_substitutes if ord(w) < 127])\n",
    "phrase_substitutes = [w for w in re.split('\\n',phrase_substitutes) if not w=='']"
   ]
  },
  {
   "cell_type": "code",
   "execution_count": 3,
   "metadata": {},
   "outputs": [
    {
     "name": "stdout",
     "output_type": "stream",
     "text": [
      "original title = registered nurses\n",
      "edited title = registered nurse\n",
      "---\n",
      "original title = rn\n",
      "edited title = registered nurse\n",
      "---\n",
      "original title = hostesses\n",
      "edited title = host\n",
      "---\n",
      "original title = foremen\n",
      "edited title = foreman\n",
      "---\n",
      "original title = customer service rep\n",
      "edited title = customer service representative\n",
      "---\n"
     ]
    }
   ],
   "source": [
    "# some illustrations (see \"title_substitute.py\")\n",
    "\n",
    "list_job_titles = ['registered nurses',\n",
    "                   'rn', \n",
    "                   'hostesses',\n",
    "                   'foremen', \n",
    "                   'customer service rep']\n",
    "\n",
    "for title in list_job_titles: \n",
    "    title_clean = substitute_titles(title,word_substitutes,phrase_substitutes)\n",
    "    print('original title = ' + title)\n",
    "    print('edited title = ' + title_clean)\n",
    "    print('---')"
   ]
  },
  {
   "cell_type": "markdown",
   "metadata": {},
   "source": [
    "## Some technical issues\n",
    "\n",
    "* The procedure of replacing plural nouns with their singular form works in general:"
   ]
  },
  {
   "cell_type": "code",
   "execution_count": 4,
   "metadata": {},
   "outputs": [
    {
     "data": {
      "text/plain": [
       "'galaxy'"
      ]
     },
     "execution_count": 4,
     "metadata": {},
     "output_type": "execute_result"
    }
   ],
   "source": [
    "substitute_titles('galaxies',word_substitutes,phrase_substitutes)\n",
    "# Note: We do not supply the mapping from 'galaxies' to 'galaxy'."
   ]
  },
  {
   "cell_type": "markdown",
   "metadata": {},
   "source": [
    "* The procedure of replacing abbreviations, on the other hand, requires user-provided information, i.e., we list down the most common substitutions. While we cannot possibly identify all abbreviations, we will use the continuous bag of word (CBOW) model later. Common abbreviations would have similar meanings as their original words. "
   ]
  },
  {
   "cell_type": "markdown",
   "metadata": {},
   "source": [
    "## ONET reported job titles "
   ]
  },
  {
   "cell_type": "markdown",
   "metadata": {},
   "source": [
    "The ONET publishes, for each SOC code, a list of reported job titles in \"Sample of Reported Titles\" and \"Alternate Titles\" sections. According to the ONET data dictionary [here](https://www.onetcenter.org/dl_files/database/db_22_1_dictionary.pdf), the \"Sample of Reported Titles\" file:\n",
    "\n",
    "***\n",
    "*\"contains job titles frequently reported by incumbents and occupational experts on data collection surveys.\"* (page 52). \n",
    "***\n",
    "\n",
    "Similarly, the \"Alternate Titles\" file:\n",
    "***\n",
    "*\"contains alternate, or 'lay', occupational titles for the ONET-SOC classification system. The file was developed to improve keyword searches in several Department of Labor internet applications (i.e., Career InfoNet, ONET OnLine, and ONET Code Connector). The file contains\n",
    "occupational titles from existing occupational classification systems, as well as from other diverse sources.\"* (page 50).\n",
    "***"
   ]
  },
  {
   "cell_type": "markdown",
   "metadata": {},
   "source": [
    "Some job titles, unfortunately, do not have a unique mapping to an SOC code. For example, \"Office Administrator\" is reported to be \"43-9061.00\", \"43-6011.00\" and \"43-6014.00\". For these titles, we rely on the ONET website search algorithm. First, we enter \"Office Administrator\"  into the search query box, \"Occupation Quick Search\". Then, we assign the cloest match that the ONET website provides. The screenshot below demonstrates this procedure: "
   ]
  },
  {
   "cell_type": "markdown",
   "metadata": {},
   "source": [
    "<img src=\"example_website.png\">"
   ]
  },
  {
   "cell_type": "markdown",
   "metadata": {},
   "source": [
    "Then, we map \"Office Administrator\" to \"43-9061.00\". Next, we apply the same title editing procedure as in newspaper job titles:"
   ]
  },
  {
   "cell_type": "code",
   "execution_count": 5,
   "metadata": {},
   "outputs": [
    {
     "name": "stdout",
     "output_type": "stream",
     "text": [
      "Total mappings = 45207\n"
     ]
    },
    {
     "data": {
      "text/html": [
       "<div>\n",
       "<style>\n",
       "    .dataframe thead tr:only-child th {\n",
       "        text-align: right;\n",
       "    }\n",
       "\n",
       "    .dataframe thead th {\n",
       "        text-align: left;\n",
       "    }\n",
       "\n",
       "    .dataframe tbody tr th {\n",
       "        vertical-align: top;\n",
       "    }\n",
       "</style>\n",
       "<table border=\"1\" class=\"dataframe\">\n",
       "  <thead>\n",
       "    <tr style=\"text-align: right;\">\n",
       "      <th></th>\n",
       "      <th>title</th>\n",
       "      <th>original_title</th>\n",
       "      <th>soc</th>\n",
       "    </tr>\n",
       "  </thead>\n",
       "  <tbody>\n",
       "    <tr>\n",
       "      <th>0</th>\n",
       "      <td>operation director</td>\n",
       "      <td>Operations Director</td>\n",
       "      <td>11102100</td>\n",
       "    </tr>\n",
       "    <tr>\n",
       "      <th>1</th>\n",
       "      <td>us commissioner</td>\n",
       "      <td>U.S. Commissioner</td>\n",
       "      <td>11101100</td>\n",
       "    </tr>\n",
       "    <tr>\n",
       "      <th>2</th>\n",
       "      <td>sale and marketing director</td>\n",
       "      <td>Sales and Marketing Director</td>\n",
       "      <td>11202200</td>\n",
       "    </tr>\n",
       "    <tr>\n",
       "      <th>3</th>\n",
       "      <td>market analysis director</td>\n",
       "      <td>Market Analysis Director</td>\n",
       "      <td>11202100</td>\n",
       "    </tr>\n",
       "    <tr>\n",
       "      <th>4</th>\n",
       "      <td>director of sale and marketing</td>\n",
       "      <td>Director of Sales and Marketing</td>\n",
       "      <td>41101200</td>\n",
       "    </tr>\n",
       "  </tbody>\n",
       "</table>\n",
       "</div>"
      ],
      "text/plain": [
       "                            title                   original_title       soc\n",
       "0              operation director              Operations Director  11102100\n",
       "1                 us commissioner                U.S. Commissioner  11101100\n",
       "2     sale and marketing director     Sales and Marketing Director  11202200\n",
       "3        market analysis director         Market Analysis Director  11202100\n",
       "4  director of sale and marketing  Director of Sales and Marketing  41101200"
      ]
     },
     "execution_count": 5,
     "metadata": {},
     "output_type": "execute_result"
    }
   ],
   "source": [
    "title2SOC_filename = 'title2SOC.txt'\n",
    "names = ['title','original_title','soc']\n",
    "\n",
    "# title: The edited title, to be matched with newspaper titles.\n",
    "# original_title: The original titles from ONET website. \n",
    "# soc: Occupation code.\n",
    " \n",
    "# import into pandas dataframe\n",
    "title2SOC = pd.read_csv(title2SOC_filename, sep = '\\t', names = names)\n",
    "\n",
    "# print number of total mappings\n",
    "print('Total mappings = ' + str(len(title2SOC)))\n",
    " \n",
    "# print some examples\n",
    "title2SOC.head()"
   ]
  },
  {
   "cell_type": "markdown",
   "metadata": {},
   "source": [
    "The subsequent sections of this IPython notebook explain how we use these mappings, in combination with the previously constructed continuous bag of words (CBOW) model, to assign an SOC code to each of the newspaper job title. The final output of this exercise, a mapping between newspaper job titles and SOC codes, can be downloaded [here](http://ssc.wisc.edu/~eatalay/apst/soc_mapping_apst.csv).  "
   ]
  },
  {
   "cell_type": "markdown",
   "metadata": {
    "collapsed": true
   },
   "source": [
    "## Compute a vector representation of each job title"
   ]
  },
  {
   "cell_type": "markdown",
   "metadata": {},
   "source": [
    "We apply the CBOW model previously constructed to represent each job title with a vector. In the actual implementation, we set our dimension of the CBOW model to be 300, as explained [here](https://github.com/phaiptt125/newspaper_project/blob/master/data_cleaning/CBOW.ipynb). \n",
    "\n",
    "For illustrative purposes, however, this IPython notebook provides examples using the CBOW model with the dimension of 5. The embedded code below illustrates how we construct this CBOW model:"
   ]
  },
  {
   "cell_type": "markdown",
   "metadata": {},
   "source": [
    "***\n",
    "    model = Word2Vec(LineSentence(open('ad_combined.txt')), size = 5, window = 5, min_count = 5, workers = multiprocessing.cpu_count())\n",
    "    \n",
    "    model.save('cbow_small.model')\n",
    "***"
   ]
  },
  {
   "cell_type": "code",
   "execution_count": 6,
   "metadata": {
    "collapsed": true
   },
   "outputs": [],
   "source": [
    "model = Word2Vec.load('cbow_small.model')\n",
    "# 'cbow_small.model' has dimension of 5.\n",
    "# In the actual implementation, we use our previously constructed 'cbow.model', which has dimension of 300.  "
   ]
  },
  {
   "cell_type": "markdown",
   "metadata": {},
   "source": [
    "* The model provides a vector representation of each word in the corpus. For example:"
   ]
  },
  {
   "cell_type": "code",
   "execution_count": 7,
   "metadata": {},
   "outputs": [
    {
     "data": {
      "text/plain": [
       "array([-0.23945422, -0.33969662, -0.25194243,  0.86623007,  0.11592443], dtype=float32)"
      ]
     },
     "execution_count": 7,
     "metadata": {},
     "output_type": "execute_result"
    }
   ],
   "source": [
    "model['customer']"
   ]
  },
  {
   "cell_type": "code",
   "execution_count": 8,
   "metadata": {},
   "outputs": [
    {
     "data": {
      "text/plain": [
       "array([-0.30502519, -0.39435992, -0.19132054,  0.81630003,  0.22020572], dtype=float32)"
      ]
     },
     "execution_count": 8,
     "metadata": {},
     "output_type": "execute_result"
    }
   ],
   "source": [
    "model['service']"
   ]
  },
  {
   "cell_type": "code",
   "execution_count": 9,
   "metadata": {},
   "outputs": [
    {
     "data": {
      "text/plain": [
       "array([-0.46670517, -0.50954461,  0.44123417,  0.19443344,  0.53857094], dtype=float32)"
      ]
     },
     "execution_count": 9,
     "metadata": {},
     "output_type": "execute_result"
    }
   ],
   "source": [
    "model['trainee']"
   ]
  },
  {
   "cell_type": "markdown",
   "metadata": {},
   "source": [
    "* We compute a vector represenation of \"customer service trainee\": "
   ]
  },
  {
   "cell_type": "code",
   "execution_count": 10,
   "metadata": {},
   "outputs": [
    {
     "data": {
      "text/plain": [
       "array([-1.01118457, -1.24360108, -0.00202879,  1.87696362,  0.87470108], dtype=float32)"
      ]
     },
     "execution_count": 10,
     "metadata": {},
     "output_type": "execute_result"
    }
   ],
   "source": [
    "vector_title = model['customer'] + model['service'] + model['trainee']\n",
    "vector_title"
   ]
  },
  {
   "cell_type": "markdown",
   "metadata": {},
   "source": [
    "As such, we can compute a vector represenation of:\n",
    "1. All job titles from our newspaper data.\n",
    "2. All job titles from our list of ONET titles."
   ]
  },
  {
   "cell_type": "markdown",
   "metadata": {},
   "source": [
    "## Map ONET job titles to newspaper job titles (direct match)"
   ]
  },
  {
   "cell_type": "markdown",
   "metadata": {},
   "source": [
    "We assign the ONET job title, where a corresponding SOC code is available, to each of the newspaper job title. First, for each newspaper job title, we check if there is any direct string match. Suppose we have \"sale and marketing director\" in the newspaper:"
   ]
  },
  {
   "cell_type": "code",
   "execution_count": 11,
   "metadata": {},
   "outputs": [
    {
     "data": {
      "text/plain": [
       "True"
      ]
     },
     "execution_count": 11,
     "metadata": {},
     "output_type": "execute_result"
    }
   ],
   "source": [
    "\"sale and marketing director\" in title2SOC['title'].values"
   ]
  },
  {
   "cell_type": "code",
   "execution_count": 12,
   "metadata": {},
   "outputs": [
    {
     "data": {
      "text/html": [
       "<div>\n",
       "<style>\n",
       "    .dataframe thead tr:only-child th {\n",
       "        text-align: right;\n",
       "    }\n",
       "\n",
       "    .dataframe thead th {\n",
       "        text-align: left;\n",
       "    }\n",
       "\n",
       "    .dataframe tbody tr th {\n",
       "        vertical-align: top;\n",
       "    }\n",
       "</style>\n",
       "<table border=\"1\" class=\"dataframe\">\n",
       "  <thead>\n",
       "    <tr style=\"text-align: right;\">\n",
       "      <th></th>\n",
       "      <th>title</th>\n",
       "      <th>original_title</th>\n",
       "      <th>soc</th>\n",
       "    </tr>\n",
       "  </thead>\n",
       "  <tbody>\n",
       "    <tr>\n",
       "      <th>2</th>\n",
       "      <td>sale and marketing director</td>\n",
       "      <td>Sales and Marketing Director</td>\n",
       "      <td>11202200</td>\n",
       "    </tr>\n",
       "  </tbody>\n",
       "</table>\n",
       "</div>"
      ],
      "text/plain": [
       "                         title                original_title       soc\n",
       "2  sale and marketing director  Sales and Marketing Director  11202200"
      ]
     },
     "execution_count": 12,
     "metadata": {},
     "output_type": "execute_result"
    }
   ],
   "source": [
    "title2SOC[title2SOC['title'] == \"sale and marketing director\"]"
   ]
  },
  {
   "cell_type": "markdown",
   "metadata": {},
   "source": [
    "* Since, we have \"sale and marketing director\" in our list of ONET titles, we can proceed and assign the SOC of \"11-2022.00\". "
   ]
  },
  {
   "cell_type": "markdown",
   "metadata": {},
   "source": [
    "## Map ONET job titles to newspaper job titles (CBOW-based)"
   ]
  },
  {
   "cell_type": "markdown",
   "metadata": {},
   "source": [
    "Using the previously constructed CBOW model, we assign a vector to each of the newspaper job title that does not have a direct string match. We then compute cosine similarity score and assign the \"closest\" ONET job title and its corresponding SOC code."
   ]
  },
  {
   "cell_type": "markdown",
   "metadata": {},
   "source": [
    "* Suppose we have \"customer service trainee\" as a newspaper job title, we first check if there is a direct match to our list of ONET titles: "
   ]
  },
  {
   "cell_type": "code",
   "execution_count": 13,
   "metadata": {},
   "outputs": [
    {
     "data": {
      "text/plain": [
       "False"
      ]
     },
     "execution_count": 13,
     "metadata": {},
     "output_type": "execute_result"
    }
   ],
   "source": [
    "\"customer service trainee\" in title2SOC['title'].values"
   ]
  },
  {
   "cell_type": "markdown",
   "metadata": {},
   "source": [
    "* Since there is no direct match, we then assign a vector representation of this title and compute how similar this title to each of the ONET job titles. We use cosine similarity as a measure of how two vectors are similar to each other. As the cosine function gives the value between 0 and 1, the closer value to 1 means the two vectors are closer to each other. The results below demonstrate cosine similarity scores to some ONET job titles:"
   ]
  },
  {
   "cell_type": "code",
   "execution_count": 14,
   "metadata": {},
   "outputs": [
    {
     "name": "stdout",
     "output_type": "stream",
     "text": [
      "cosine similarity to \"executive secretary\" = [[ 0.53498054]]\n",
      "cosine similarity to \"mechanical engineer\" = [[ 0.73577219]]\n",
      "cosine similarity to \"client representative\" = [[ 0.9032464]]\n",
      "cosine similarity to \"customer service assistant\" = [[ 0.99343538]]\n"
     ]
    }
   ],
   "source": [
    "vector_newspaper = model['customer'] + model['service'] + model['trainee']\n",
    "\n",
    "# compute similarity to \"executive secretary\" \n",
    "vector_to_match  = model['executive'] + model['secretary']\n",
    "cosine = cosine_similarity(vector_to_match .reshape(1,-1), vector_newspaper.reshape(1,-1))\n",
    "print( 'cosine similarity to \"executive secretary\" = ' +  str(cosine))\n",
    "\n",
    "# compute similarity to \"mechanical engineer\" \n",
    "vector_to_match  = model['mechanical'] + model['engineer']\n",
    "cosine = cosine_similarity(vector_to_match .reshape(1,-1), vector_newspaper.reshape(1,-1))\n",
    "print( 'cosine similarity to \"mechanical engineer\" = ' +  str(cosine))\n",
    "\n",
    "# compute similarity to \"client representative\" \n",
    "vector_to_match  = model['client'] + model['representative']\n",
    "cosine = cosine_similarity(vector_to_match .reshape(1,-1), vector_newspaper.reshape(1,-1))\n",
    "print( 'cosine similarity to \"client representative\" = ' +  str(cosine))\n",
    "\n",
    "# compute similarity to \"customer service assistant\" \n",
    "vector_to_match  = model['customer'] + model['service'] + model['assistant']\n",
    "cosine = cosine_similarity(vector_to_match .reshape(1,-1), vector_newspaper.reshape(1,-1))\n",
    "print( 'cosine similarity to \"customer service assistant\" = ' +  str(cosine))"
   ]
  },
  {
   "cell_type": "markdown",
   "metadata": {},
   "source": [
    "***\n",
    "Therefore, using the CBOW model, we conclude that \"customer service trainee\" has a closer meaning to \"customer service assistant\" than \"executive secretary\", \"mechanical engineer\" and \"client representative\". \n",
    "\n",
    "In the actual implementation, we compute cosine similarity score to all 45207 ONET job titles. This computation cannot be performed in this Ipython notebook. It turns out that \"customer service assistant\" is indeed the cloest ONET job title to \"customer service trainee\". We, then, assign the SOC code of \"customer service trainee\" to be the same as \"customer service assistant\".     "
   ]
  },
  {
   "cell_type": "code",
   "execution_count": 15,
   "metadata": {},
   "outputs": [
    {
     "data": {
      "text/html": [
       "<div>\n",
       "<style>\n",
       "    .dataframe thead tr:only-child th {\n",
       "        text-align: right;\n",
       "    }\n",
       "\n",
       "    .dataframe thead th {\n",
       "        text-align: left;\n",
       "    }\n",
       "\n",
       "    .dataframe tbody tr th {\n",
       "        vertical-align: top;\n",
       "    }\n",
       "</style>\n",
       "<table border=\"1\" class=\"dataframe\">\n",
       "  <thead>\n",
       "    <tr style=\"text-align: right;\">\n",
       "      <th></th>\n",
       "      <th>title</th>\n",
       "      <th>original_title</th>\n",
       "      <th>soc</th>\n",
       "    </tr>\n",
       "  </thead>\n",
       "  <tbody>\n",
       "    <tr>\n",
       "      <th>2333</th>\n",
       "      <td>customer service assistant</td>\n",
       "      <td>Customer Service Assistant</td>\n",
       "      <td>43202100</td>\n",
       "    </tr>\n",
       "  </tbody>\n",
       "</table>\n",
       "</div>"
      ],
      "text/plain": [
       "                           title              original_title       soc\n",
       "2333  customer service assistant  Customer Service Assistant  43202100"
      ]
     },
     "execution_count": 15,
     "metadata": {},
     "output_type": "execute_result"
    }
   ],
   "source": [
    "title2SOC[title2SOC['title'] == \"customer service assistant\"]"
   ]
  },
  {
   "cell_type": "markdown",
   "metadata": {},
   "source": [
    "## Some technical issues"
   ]
  },
  {
   "cell_type": "markdown",
   "metadata": {},
   "source": [
    "* We ignore job title words that are not in our CBOW model. \n",
    "* Unlike the LDA model, we do not stem words. As a result, the model considers different forms of a word as different words, e.g., \"manage\" and \"management\". However, our CBOW model generally assign similar vector representation, for example: "
   ]
  },
  {
   "cell_type": "code",
   "execution_count": 16,
   "metadata": {},
   "outputs": [
    {
     "data": {
      "text/plain": [
       "array([[ 0.92724895]], dtype=float32)"
      ]
     },
     "execution_count": 16,
     "metadata": {},
     "output_type": "execute_result"
    }
   ],
   "source": [
    "cosine_similarity(model['manage'].reshape(1,-1), model['management'].reshape(1,-1))"
   ]
  },
  {
   "cell_type": "markdown",
   "metadata": {},
   "source": [
    "* Our procedure is invariant to the order of job title words, e.g., we consider \"executive secretary\" and \"secretary executive\" as the same title. "
   ]
  },
  {
   "cell_type": "code",
   "execution_count": 17,
   "metadata": {},
   "outputs": [
    {
     "data": {
      "text/plain": [
       "array([-0.5665881 , -0.73142403,  0.72307652, -0.10102642,  1.02186275], dtype=float32)"
      ]
     },
     "execution_count": 17,
     "metadata": {},
     "output_type": "execute_result"
    }
   ],
   "source": [
    "model['executive'] + model['secretary']"
   ]
  },
  {
   "cell_type": "code",
   "execution_count": 18,
   "metadata": {},
   "outputs": [
    {
     "data": {
      "text/plain": [
       "array([-0.5665881 , -0.73142403,  0.72307652, -0.10102642,  1.02186275], dtype=float32)"
      ]
     },
     "execution_count": 18,
     "metadata": {},
     "output_type": "execute_result"
    }
   ],
   "source": [
    "model['secretary'] + model['executive']"
   ]
  },
  {
   "cell_type": "markdown",
   "metadata": {},
   "source": [
    "* Common abbreviations would have similar meanings as their original words. For instance, \"rn\" is a common abbreviation for \"registered nurse\", as a result, our CBOW model assigns very similar vector representation:   "
   ]
  },
  {
   "cell_type": "code",
   "execution_count": 19,
   "metadata": {},
   "outputs": [
    {
     "data": {
      "text/plain": [
       "array([[ 0.98632824]], dtype=float32)"
      ]
     },
     "execution_count": 19,
     "metadata": {},
     "output_type": "execute_result"
    }
   ],
   "source": [
    "vector_title = model['registered'] + model['nurse']\n",
    "cosine_similarity(model['rn'].reshape(1,-1), vector_title.reshape(1,-1))"
   ]
  }
 ],
 "metadata": {
  "kernelspec": {
   "display_name": "Python 3",
   "language": "python",
   "name": "python3"
  },
  "language_info": {
   "codemirror_mode": {
    "name": "ipython",
    "version": 3
   },
   "file_extension": ".py",
   "mimetype": "text/x-python",
   "name": "python",
   "nbconvert_exporter": "python",
   "pygments_lexer": "ipython3",
   "version": "3.6.1"
  }
 },
 "nbformat": 4,
 "nbformat_minor": 2
}
