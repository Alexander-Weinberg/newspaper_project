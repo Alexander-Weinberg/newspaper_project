{
 "cells": [
  {
   "cell_type": "markdown",
   "metadata": {},
   "source": [
    "# Transforming Unstructured Text into Structured Data \n",
    "Online supplementary material to \"The Evolving U.S. Occupational Structure: A Textual Analysis.\" \n",
    "\n",
    "* [Most recent version of the paper](\n",
    "http://ssc.wisc.edu/~eatalay/skills.pdf)\n",
    "\n",
    "* [Project data library](http://ssc.wisc.edu/~eatalay/occupation_data.html) \n",
    "\n",
    "* [GitHub repository](https://github.com/phaiptt125/newspaper_project)\n",
    "\n",
    "***"
   ]
  },
  {
   "cell_type": "markdown",
   "metadata": {},
   "source": [
    "This IPython notebook demonstrates how we finally transform unstructured newspaper text into structured data (spreadsheet). In the previous steps, we:\n",
    "\n",
    "* Retrieve document metadata, remove markup from the newspaper text, and to perform an initial spell-check of the text (see [here](https://github.com/phaiptt125/newspaper_project/blob/master/data_cleaning/initial_cleaning.ipynb)). \n",
    "* Exclude non-job ad pages (see [here](https://github.com/phaiptt125/newspaper_project/blob/master/data_cleaning/LDA.ipynb)).\n",
    "\n",
    "The main components of this step are to identify the job title, discern the boundaries between job ads and transform relevant information into structured data. \n",
    "\n"
   ]
  },
  {
   "cell_type": "markdown",
   "metadata": {},
   "source": [
    "<b> Due to copyright restrictions, we are not authorized to publish a large body of newspaper text. </b>\n",
    "***"
   ]
  },
  {
   "cell_type": "markdown",
   "metadata": {},
   "source": [
    "### List of auxiliary files (see project data library or GitHub repository)\n",
    "* *title_detection.py* :\n",
    "* *title_substitute* :\n",
    "* *compute_spelling* :"
   ]
  },
  {
   "cell_type": "markdown",
   "metadata": {},
   "source": [
    "***\n",
    "## Import necessary modules"
   ]
  },
  {
   "cell_type": "code",
   "execution_count": 1,
   "metadata": {},
   "outputs": [],
   "source": [
    "import os\n",
    "import re\n",
    "import sys\n",
    "import pandas as pd\n",
    "\n",
    "import nltk\n",
    "from nltk.corpus import stopwords\n",
    "from nltk.tokenize import word_tokenize\n",
    "from nltk.stem.snowball import SnowballStemmer\n",
    " \n",
    "stop_words = set(stopwords.words('english'))\n",
    "stemmer = SnowballStemmer(\"english\")\n",
    "\n",
    "sys.path.append('./auxiliary files')\n",
    "\n",
    "from compute_spelling import *\n",
    "from title_substitute import *\n",
    "from title_detection import *\n",
    "from detect_ending import *"
   ]
  },
  {
   "cell_type": "markdown",
   "metadata": {
    "collapsed": true
   },
   "source": [
    "## Import Job Ad Pages\n",
    "\n",
    "We present an example describing how our procedure identifies job ads' boundaries and their job titles on a snippet of Display Ad page 226, from the January 14, 1979 Boston Globe (page identifer: \"Globe_displayad_19790114_226\"). "
   ]
  },
  {
   "cell_type": "markdown",
   "metadata": {},
   "source": [
    "* The text file has already been cleaned by retrieving document metadata, removing markup from the newspaper text, and correcting spelling error of the text (see [here](https://github.com/phaiptt125/newspaper_project/blob/master/data_cleaning/initial_cleaning.ipynb)). \n",
    "* We have already classified this page to be related to job ads (see [here](https://github.com/phaiptt125/newspaper_project/blob/master/data_cleaning/LDA.ipynb))."
   ]
  },
  {
   "cell_type": "code",
   "execution_count": 2,
   "metadata": {},
   "outputs": [
    {
     "name": "stdout",
     "output_type": "stream",
     "text": [
      "MEDICAL HELP\n",
      "NUCLEAR\n",
      "RADIOLOGIC TECH\n",
      "full time day po ition is available for registred or registry technician in our Nuclear Medicine department This position does require taking call\n",
      "CHEST\n",
      "PHYSICAL THERAPIST\n",
      "If you are or registry eligible\n",
      "Physical Trhrapist interested in Chest\n",
      "Therapy consider the New England Baptist Hospital Responsibilities will include providng chest therapy for Medical Surgical patients family teaching interdisciplinary inservice programs and more\n",
      "For more information please contact our Personnel department 738-5800 , Ext 255 . An Equal Opportunity Employer\n",
      "41 Pa HII Boston\n",
      "MANAGER OF\n",
      "PRIMARY CARE PROGRAMS\n",
      "Children's Hospital Medical Center\n",
      "seeks dynamic creative individual to manage its Primary Care Programs including 24-hour Emergency Room Primary Care program the Massachusetts Poison information Center and\n",
      "Dental services This position requires 3-5 years experience with background in planning budgeting and managing\n",
      "health programs Masters degree preferred but additional experience may be substituted We offer salary commensurate\n",
      "with experience and fine fringe benefits package\n",
      "please forward resumes to Helena Wallace personnel office\n",
      "MEDICAL\n",
      "300 Lonjwood Avenue\n",
      "MA 0211\n",
      "REGISTERED\n",
      "REGISTRY ELIGIBLE OR\n",
      "immi ate available in our modern well- and fu ly accredited 173-bed general hospital Cheshire Hospilal is 80 miles from Boston and near skiing water sports hunting and fishing\n",
      "Apphcants must be registered registry eligible or NERT For further information please contact the Personrel department\n",
      "Cheshire Hospital\n",
      "580 Court Street Keene NH 03431\n",
      "equ ply MF\n",
      "MEDICAL GROUP MANAGER\n",
      "For North Shore group of 9 physicians Internal Medicine Radiclogy in physician-owned building Managerial and business skills required\n",
      "Knowledge of accounting essential Familiarity with care field desirable\n",
      "Apply to and include salary range expected Walter O'Donnell\n",
      "CAPE ANN MEDICAL CENTER\n",
      "Gloucester Mass 01930\n",
      "'s 's\n",
      "immediate openings on rotating evening and night shifts for 's and 's for float pool assignments Experience in acuto nursing degree preferred for RN\n",
      "Apply PERSONNEL DEPARTMENT\n",
      "CAPE COD HOSPITAL\n",
      "Hyannis MA 02601\n",
      "An qual\n",
      "MEDICAL RECORDS SUPERVISOR\n",
      "Challenging for capable professional to assume su responsib mly of Meaical Records department Involvement with all aspects medical records process with exception of ion Requires 2-3 years supervisory experience Candilate should be ART RRA registered or eligible for AMARAexam\n",
      "please send resume qnd requirements in confidence to Director of Personnel\n",
      "THE MALDEN HOSPITAL1\n",
      "Hospital Road Malden Mass 02148\n",
      "-1pwo rtu\n",
      "MEDICAL\n",
      "RECEPTIONIST\n",
      "Heavy manuscript typing gree inq patients and secretarial duties Kno of medical ro Yping 65 wpm\n",
      "Synd resume to Dobra Kiley -Davis 50 Binney Strett Boston MA 02115\n",
      "\n"
     ]
    }
   ],
   "source": [
    "text = open('Snippet_Globe_displayad_19790114_226.txt').read()\n",
    "page_identifier = 'Globe_displayad_19790114_226'\n",
    "print(text)"
   ]
  },
  {
   "cell_type": "markdown",
   "metadata": {
    "collapsed": true
   },
   "source": [
    "## Reset Line Breaks"
   ]
  },
  {
   "cell_type": "code",
   "execution_count": 3,
   "metadata": {
    "collapsed": true
   },
   "outputs": [],
   "source": [
    "# remove emypty lines\n",
    "text_by_line = [w for w in re.split('\\n',text) if not w=='']\n",
    "\n",
    "# reset lines\n",
    "text_reset_line = CombineUppercase(text_by_line)\n",
    "text_reset_line = UppercaseNewline(text_reset_line,'\\n') #assign new line when an uppercase word is found\n",
    "text_reset_line = CombineUppercase(text_reset_line) #re-combine uppercase words together\n",
    "\n",
    "# remove extra white spaces\n",
    "text_reset_line = [' '.join([y for y in re.split(' ',w) if not y=='']) for w in text_reset_line]\n",
    "# remove empty lines\n",
    "text_reset_line = [w for w in text_reset_line if not w=='']"
   ]
  },
  {
   "cell_type": "code",
   "execution_count": 4,
   "metadata": {},
   "outputs": [
    {
     "data": {
      "text/plain": [
       "['MEDICAL HELP NUCLEAR RADIOLOGIC TECH',\n",
       " 'full time day po ition is available for registred or registry technician in our Nuclear Medicine department This position does require taking call',\n",
       " 'CHEST PHYSICAL THERAPIST',\n",
       " 'If you are or registry eligible',\n",
       " 'Physical Trhrapist interested in Chest',\n",
       " 'Therapy consider the New England Baptist Hospital Responsibilities will include providng chest therapy for Medical Surgical patients family teaching interdisciplinary inservice programs and more',\n",
       " 'For more information please contact our Personnel department 738-5800 , Ext 255 . An Equal Opportunity Employer',\n",
       " '41 Pa',\n",
       " 'HII',\n",
       " 'Boston',\n",
       " 'MANAGER OF PRIMARY CARE PROGRAMS',\n",
       " \"Children's Hospital Medical Center\",\n",
       " 'seeks dynamic creative individual to manage its Primary Care Programs including 24-hour Emergency Room Primary Care program the Massachusetts Poison information Center and',\n",
       " 'Dental services This position requires 3-5 years experience with background in planning budgeting and managing',\n",
       " 'health programs Masters degree preferred but additional experience may be substituted We offer salary commensurate',\n",
       " 'with experience and fine fringe benefits package',\n",
       " 'please forward resumes to Helena Wallace personnel office',\n",
       " 'MEDICAL',\n",
       " '300 Lonjwood Avenue',\n",
       " 'MA 0211 REGISTERED REGISTRY ELIGIBLE OR',\n",
       " 'immi ate available in our modern well- and fu ly accredited 173-bed general hospital Cheshire Hospilal is 80 miles from Boston and near skiing water sports hunting and fishing',\n",
       " 'Apphcants must be registered registry eligible or',\n",
       " 'NERT',\n",
       " 'For further information please contact the Personrel department',\n",
       " 'Cheshire Hospital',\n",
       " '580 Court Street Keene NH 03431',\n",
       " 'equ ply',\n",
       " 'MF MEDICAL GROUP MANAGER',\n",
       " 'For North Shore group of 9 physicians Internal Medicine Radiclogy in physician-owned building Managerial and business skills required',\n",
       " 'Knowledge of accounting essential Familiarity with care field desirable',\n",
       " \"Apply to and include salary range expected Walter O'Donnell\",\n",
       " 'CAPE ANN MEDICAL CENTER',\n",
       " 'Gloucester Mass 01930',\n",
       " \"'s 's\",\n",
       " \"immediate openings on rotating evening and night shifts for 's and 's for float pool assignments Experience in acuto nursing degree preferred for\",\n",
       " 'RN',\n",
       " 'APPLY PERSONNEL DEPARTMENT CAPE COD HOSPITAL',\n",
       " 'Hyannis MA 02601',\n",
       " 'An qual',\n",
       " 'MEDICAL RECORDS SUPERVISOR',\n",
       " 'Challenging for capable professional to assume su responsib mly of Meaical Records department Involvement with all aspects medical records process with exception of ion Requires 2-3 years supervisory experience Candilate should be',\n",
       " 'ART RRA',\n",
       " 'registered or eligible for AMARAexam',\n",
       " 'please send resume qnd requirements in confidence to Director of Personnel',\n",
       " 'THE MALDEN HOSPITAL1',\n",
       " 'Hospital Road Malden Mass 02148',\n",
       " '-1pwo rtu',\n",
       " 'MEDICAL RECEPTIONIST',\n",
       " 'Heavy manuscript typing gree inq patients and secretarial duties Kno of medical ro Yping 65 wpm',\n",
       " 'Synd resume to Dobra Kiley -Davis 50 Binney Strett Boston MA 02115']"
      ]
     },
     "execution_count": 4,
     "metadata": {},
     "output_type": "execute_result"
    }
   ],
   "source": [
    "# print results\n",
    "text_reset_line"
   ]
  },
  {
   "cell_type": "markdown",
   "metadata": {},
   "source": [
    "## Detect Job Titles"
   ]
  },
  {
   "cell_type": "code",
   "execution_count": 5,
   "metadata": {
    "collapsed": true
   },
   "outputs": [],
   "source": [
    "# define indicators if title detected\n",
    "title_found = '---titlefound---'\n",
    "\n",
    "# read all input files\n",
    "TitleBaseFile = open('./auxiliary files/TitleBase.txt').read()\n",
    "TitleBaseList = [w for w in re.split('\\n',TitleBaseFile) if not w=='']"
   ]
  },
  {
   "cell_type": "code",
   "execution_count": 6,
   "metadata": {
    "collapsed": true
   },
   "outputs": [],
   "source": [
    "text_detect_title = ['']*len(text_reset_line)\n",
    "PreviousLineIsUppercaseTitle = False\n",
    "\n",
    "for i in range(0,len(text_reset_line)):\n",
    "    line = text_reset_line[i]\n",
    "    line_no_hyphen = re.sub('-',' ',line.lower())\n",
    "    tokens = word_tokenize(line_no_hyphen)\n",
    "    \n",
    "    Match = list(set(tokens).intersection(TitleBaseList)) # see if the line has words in TitleBaseList \n",
    "        \n",
    "    if Match and DetermineUppercase(line): # uppercase job title\n",
    "        text_detect_title[i] = ' '.join([w for w in re.split(' ',line) if not w=='']) + title_found\n",
    "        # adding a flag that a title is found\n",
    "        # ' '.join([w for w in split(' ',line) if not w=='']) is to remove extra spaces from 'line'\n",
    "        PreviousLineIsUppercaseTitle = True\n",
    "    elif Match and len(tokens) <= 3:\n",
    "        # This line allows non-uppercase job titles\n",
    "        # It has to be short enough => less than or equal to 3 words\n",
    "        # To be more conservative, the previous line must NOT be a uppercase job title \n",
    "        if PreviousLineIsUppercaseTitle == False:\n",
    "            text_detect_title[i] = ' '.join([w for w in re.split(' ',line) if not w=='']) + title_found\n",
    "            PreviousLineIsUppercaseTitle = False\n",
    "        else:\n",
    "            text_detect_title[i] = ' '.join([w for w in re.split(' ',line) if not w==''])\n",
    "            PreviousLineIsUppercaseTitle = False\n",
    "    else:\n",
    "        text_detect_title[i] = ' '.join([w for w in re.split(' ',line) if not w==''])\n",
    "        PreviousLineIsUppercaseTitle = False"
   ]
  },
  {
   "cell_type": "code",
   "execution_count": 7,
   "metadata": {},
   "outputs": [
    {
     "data": {
      "text/plain": [
       "['MEDICAL HELP NUCLEAR RADIOLOGIC TECH---titlefound---',\n",
       " 'CHEST PHYSICAL THERAPIST---titlefound---',\n",
       " 'MANAGER OF PRIMARY CARE PROGRAMS---titlefound---',\n",
       " 'MEDICAL---titlefound---',\n",
       " 'MF MEDICAL GROUP MANAGER---titlefound---',\n",
       " 'CAPE ANN MEDICAL CENTER---titlefound---',\n",
       " 'RN---titlefound---',\n",
       " 'APPLY PERSONNEL DEPARTMENT CAPE COD HOSPITAL---titlefound---',\n",
       " 'MEDICAL RECORDS SUPERVISOR---titlefound---',\n",
       " 'MEDICAL RECEPTIONIST---titlefound---']"
      ]
     },
     "execution_count": 7,
     "metadata": {},
     "output_type": "execute_result"
    }
   ],
   "source": [
    "[w for w in text_detect_title if re.findall(title_found,w)]"
   ]
  },
  {
   "cell_type": "markdown",
   "metadata": {},
   "source": [
    "## Detect Addresses and Endings Phrases "
   ]
  },
  {
   "cell_type": "code",
   "execution_count": 8,
   "metadata": {},
   "outputs": [],
   "source": [
    "ending_found = '---endingfound---'\n",
    "text_assign_flag = list()\n",
    "\n",
    "for line in text_detect_title:\n",
    "    AddressFound , EndingPhraseFound = AssignFlag(line)\n",
    "    if AddressFound == True or EndingPhraseFound == True:\n",
    "        text_assign_flag.append(line+ending_found)\n",
    "    else:\n",
    "        text_assign_flag.append(line)"
   ]
  },
  {
   "cell_type": "code",
   "execution_count": 9,
   "metadata": {},
   "outputs": [
    {
     "data": {
      "text/plain": [
       "['For more information please contact our Personnel department 738-5800 , Ext 255 . An Equal Opportunity Employer---endingfound---',\n",
       " '300 Lonjwood Avenue---endingfound---',\n",
       " 'For further information please contact the Personrel department---endingfound---',\n",
       " '580 Court Street Keene NH 03431---endingfound---',\n",
       " 'Gloucester Mass 01930---endingfound---',\n",
       " 'Hyannis MA 02601---endingfound---',\n",
       " 'please send resume qnd requirements in confidence to Director of Personnel---endingfound---',\n",
       " 'Hospital Road Malden Mass 02148---endingfound---',\n",
       " 'Synd resume to Dobra Kiley -Davis 50 Binney Strett Boston MA 02115---endingfound---']"
      ]
     },
     "execution_count": 9,
     "metadata": {},
     "output_type": "execute_result"
    }
   ],
   "source": [
    "[w for w in text_assign_flag if re.findall(ending_found,w)]"
   ]
  },
  {
   "cell_type": "code",
   "execution_count": 10,
   "metadata": {},
   "outputs": [
    {
     "data": {
      "text/plain": [
       "['MEDICAL HELP NUCLEAR RADIOLOGIC TECH---titlefound---',\n",
       " 'full time day po ition is available for registred or registry technician in our Nuclear Medicine department This position does require taking call',\n",
       " 'CHEST PHYSICAL THERAPIST---titlefound---',\n",
       " 'If you are or registry eligible',\n",
       " 'Physical Trhrapist interested in Chest',\n",
       " 'Therapy consider the New England Baptist Hospital Responsibilities will include providng chest therapy for Medical Surgical patients family teaching interdisciplinary inservice programs and more',\n",
       " 'For more information please contact our Personnel department 738-5800 , Ext 255 . An Equal Opportunity Employer---endingfound---',\n",
       " '41 Pa',\n",
       " 'HII',\n",
       " 'Boston',\n",
       " 'MANAGER OF PRIMARY CARE PROGRAMS---titlefound---',\n",
       " \"Children's Hospital Medical Center\",\n",
       " 'seeks dynamic creative individual to manage its Primary Care Programs including 24-hour Emergency Room Primary Care program the Massachusetts Poison information Center and',\n",
       " 'Dental services This position requires 3-5 years experience with background in planning budgeting and managing',\n",
       " 'health programs Masters degree preferred but additional experience may be substituted We offer salary commensurate',\n",
       " 'with experience and fine fringe benefits package',\n",
       " 'please forward resumes to Helena Wallace personnel office',\n",
       " 'MEDICAL---titlefound---',\n",
       " '300 Lonjwood Avenue---endingfound---',\n",
       " 'MA 0211 REGISTERED REGISTRY ELIGIBLE OR',\n",
       " 'immi ate available in our modern well- and fu ly accredited 173-bed general hospital Cheshire Hospilal is 80 miles from Boston and near skiing water sports hunting and fishing',\n",
       " 'Apphcants must be registered registry eligible or',\n",
       " 'NERT',\n",
       " 'For further information please contact the Personrel department---endingfound---',\n",
       " 'Cheshire Hospital',\n",
       " '580 Court Street Keene NH 03431---endingfound---',\n",
       " 'equ ply',\n",
       " 'MF MEDICAL GROUP MANAGER---titlefound---',\n",
       " 'For North Shore group of 9 physicians Internal Medicine Radiclogy in physician-owned building Managerial and business skills required',\n",
       " 'Knowledge of accounting essential Familiarity with care field desirable',\n",
       " \"Apply to and include salary range expected Walter O'Donnell\",\n",
       " 'CAPE ANN MEDICAL CENTER---titlefound---',\n",
       " 'Gloucester Mass 01930---endingfound---',\n",
       " \"'s 's\",\n",
       " \"immediate openings on rotating evening and night shifts for 's and 's for float pool assignments Experience in acuto nursing degree preferred for\",\n",
       " 'RN---titlefound---',\n",
       " 'APPLY PERSONNEL DEPARTMENT CAPE COD HOSPITAL---titlefound---',\n",
       " 'Hyannis MA 02601---endingfound---',\n",
       " 'An qual',\n",
       " 'MEDICAL RECORDS SUPERVISOR---titlefound---',\n",
       " 'Challenging for capable professional to assume su responsib mly of Meaical Records department Involvement with all aspects medical records process with exception of ion Requires 2-3 years supervisory experience Candilate should be',\n",
       " 'ART RRA',\n",
       " 'registered or eligible for AMARAexam',\n",
       " 'please send resume qnd requirements in confidence to Director of Personnel---endingfound---',\n",
       " 'THE MALDEN HOSPITAL1',\n",
       " 'Hospital Road Malden Mass 02148---endingfound---',\n",
       " '-1pwo rtu',\n",
       " 'MEDICAL RECEPTIONIST---titlefound---',\n",
       " 'Heavy manuscript typing gree inq patients and secretarial duties Kno of medical ro Yping 65 wpm',\n",
       " 'Synd resume to Dobra Kiley -Davis 50 Binney Strett Boston MA 02115---endingfound---']"
      ]
     },
     "execution_count": 10,
     "metadata": {},
     "output_type": "execute_result"
    }
   ],
   "source": [
    "text_assign_flag"
   ]
  },
  {
   "cell_type": "markdown",
   "metadata": {},
   "source": [
    "## Assign Boundaries"
   ]
  },
  {
   "cell_type": "code",
   "execution_count": 11,
   "metadata": {},
   "outputs": [],
   "source": [
    "split_indicator = '---splithere---'\n",
    "\n",
    "# -----Step1: split if title is found-----\n",
    "\n",
    "split_by_title = list() \n",
    "\n",
    "for line in text_assign_flag:\n",
    "    if re.findall(title_found,line):\n",
    "        #add a split indicator BEFORE the line with title \n",
    "        split_by_title.append(split_indicator + '\\n' + line)\n",
    "    else:\n",
    "        split_by_title.append(line) # if not found, just append the line back in \n",
    "\n",
    "    # \"SplitAdTitleByLine\" is supposed to be a list where each element is one line.\n",
    "    # However, there'd be extra lines due to split indicator (where a title is found).\n",
    "    # The command below first joins all the lines together '\\n'.join() and then\n",
    "    # split again by '\\n' so that each element indeed represents one line\n",
    "            \n",
    "split_by_title = [w for w in re.split('\\n','\\n'.join(split_by_title)) if not w=='']"
   ]
  },
  {
   "cell_type": "code",
   "execution_count": 12,
   "metadata": {},
   "outputs": [],
   "source": [
    "split_posting = list()\n",
    "\n",
    "# -----Step2: split if any ending phrase and/or address is found-----\n",
    "\n",
    "for line in split_by_title:\n",
    "    line_remove_ending_found = re.sub(ending_found,'',line)\n",
    "    if re.findall(ending_found,line):\n",
    "        #add a split indicator AFTER the line where the pattern is found\n",
    "        split_posting.append( line_remove_ending_found + '\\n' + split_indicator)\n",
    "    else:\n",
    "        split_posting.append( line_remove_ending_found ) # if not found, just append the line back in \n",
    "            \n",
    "split_posting = [w for w in re.split(split_indicator,'\\n'.join(split_posting)) if not w=='']"
   ]
  },
  {
   "cell_type": "code",
   "execution_count": 16,
   "metadata": {},
   "outputs": [
    {
     "name": "stdout",
     "output_type": "stream",
     "text": [
      "\n",
      "MEDICAL HELP NUCLEAR RADIOLOGIC TECH---titlefound---\n",
      "full time day po ition is available for registred or registry technician in our Nuclear Medicine department This position does require taking call\n",
      "\n",
      "---splithere---\n",
      "\n",
      "CHEST PHYSICAL THERAPIST---titlefound---\n",
      "If you are or registry eligible\n",
      "Physical Trhrapist interested in Chest\n",
      "Therapy consider the New England Baptist Hospital Responsibilities will include providng chest therapy for Medical Surgical patients family teaching interdisciplinary inservice programs and more\n",
      "For more information please contact our Personnel department 738-5800 , Ext 255 . An Equal Opportunity Employer\n",
      "\n",
      "---splithere---\n",
      "\n",
      "41 Pa\n",
      "HII\n",
      "Boston\n",
      "\n",
      "---splithere---\n",
      "\n",
      "MANAGER OF PRIMARY CARE PROGRAMS---titlefound---\n",
      "Children's Hospital Medical Center\n",
      "seeks dynamic creative individual to manage its Primary Care Programs including 24-hour Emergency Room Primary Care program the Massachusetts Poison information Center and\n",
      "Dental services This position requires 3-5 years experience with background in planning budgeting and managing\n",
      "health programs Masters degree preferred but additional experience may be substituted We offer salary commensurate\n",
      "with experience and fine fringe benefits package\n",
      "please forward resumes to Helena Wallace personnel office\n",
      "\n",
      "---splithere---\n",
      "\n",
      "MEDICAL---titlefound---\n",
      "300 Lonjwood Avenue\n",
      "\n",
      "---splithere---\n",
      "\n",
      "MA 0211 REGISTERED REGISTRY ELIGIBLE OR\n",
      "immi ate available in our modern well- and fu ly accredited 173-bed general hospital Cheshire Hospilal is 80 miles from Boston and near skiing water sports hunting and fishing\n",
      "Apphcants must be registered registry eligible or\n",
      "NERT\n",
      "For further information please contact the Personrel department\n",
      "\n",
      "---splithere---\n",
      "\n",
      "Cheshire Hospital\n",
      "580 Court Street Keene NH 03431\n",
      "\n",
      "---splithere---\n",
      "\n",
      "equ ply\n",
      "\n",
      "---splithere---\n",
      "\n",
      "MF MEDICAL GROUP MANAGER---titlefound---\n",
      "For North Shore group of 9 physicians Internal Medicine Radiclogy in physician-owned building Managerial and business skills required\n",
      "Knowledge of accounting essential Familiarity with care field desirable\n",
      "Apply to and include salary range expected Walter O'Donnell\n",
      "\n",
      "---splithere---\n",
      "\n",
      "CAPE ANN MEDICAL CENTER---titlefound---\n",
      "Gloucester Mass 01930\n",
      "\n",
      "---splithere---\n",
      "\n",
      "'s 's\n",
      "immediate openings on rotating evening and night shifts for 's and 's for float pool assignments Experience in acuto nursing degree preferred for\n",
      "\n",
      "---splithere---\n",
      "\n",
      "RN---titlefound---\n",
      "\n",
      "---splithere---\n",
      "\n",
      "APPLY PERSONNEL DEPARTMENT CAPE COD HOSPITAL---titlefound---\n",
      "Hyannis MA 02601\n",
      "\n",
      "---splithere---\n",
      "\n",
      "An qual\n",
      "\n",
      "---splithere---\n",
      "\n",
      "MEDICAL RECORDS SUPERVISOR---titlefound---\n",
      "Challenging for capable professional to assume su responsib mly of Meaical Records department Involvement with all aspects medical records process with exception of ion Requires 2-3 years supervisory experience Candilate should be\n",
      "ART RRA\n",
      "registered or eligible for AMARAexam\n",
      "please send resume qnd requirements in confidence to Director of Personnel\n",
      "\n",
      "---splithere---\n",
      "\n",
      "THE MALDEN HOSPITAL1\n",
      "Hospital Road Malden Mass 02148\n",
      "\n",
      "---splithere---\n",
      "\n",
      "-1pwo rtu\n",
      "\n",
      "---splithere---\n",
      "\n",
      "MEDICAL RECEPTIONIST---titlefound---\n",
      "Heavy manuscript typing gree inq patients and secretarial duties Kno of medical ro Yping 65 wpm\n",
      "Synd resume to Dobra Kiley -Davis 50 Binney Strett Boston MA 02115\n",
      "\n",
      "---splithere---\n"
     ]
    }
   ],
   "source": [
    "for ad in split_posting:\n",
    "    print(ad)\n",
    "    print('---splithere---')"
   ]
  },
  {
   "cell_type": "markdown",
   "metadata": {},
   "source": [
    "## Create Dataset in a Spreadsheet Format"
   ]
  },
  {
   "cell_type": "code",
   "execution_count": 14,
   "metadata": {},
   "outputs": [],
   "source": [
    "all_flag = re.compile('|'.join([title_found,ending_found]))\n",
    "\n",
    "num_ad = 0 #initialize ad number within displayad\n",
    "\n",
    "final_output = list()\n",
    "\n",
    "for ad in split_posting:\n",
    "    \n",
    "    ad_split_line = [w for w in re.split('\\n',ad) if not w=='']\n",
    "        \n",
    "    # --------- record title ----------\n",
    "\n",
    "    title_this_ad = [w for w in ad_split_line if re.findall(title_found,w)] \n",
    "    #see if any line is a title\n",
    "            \n",
    "    if len(title_this_ad) == 1: #if we do have a title\n",
    "        title_clean = re.sub(all_flag,'',title_this_ad[0].lower()) \n",
    "        #take out the flags and revert to lowercase\n",
    "\n",
    "        title_clean = ' '.join([y for y in re.split(' ',title_clean) if not y==''])\n",
    "    else:\n",
    "        title_clean = ''\n",
    "\n",
    "    # --------- record content ----------\n",
    "        \n",
    "    ad_content = [w for w in ad_split_line if not re.findall(title_found,w)] # take out lines with title\n",
    "    ad_content = ' '.join([w for w in ad_content if not w==''])\n",
    "    #delete empty lines + combine all the line together (within an ad)\n",
    "        \n",
    "    ad_content = re.sub(all_flag,'',ad_content.lower()) \n",
    "    #take out all the flags\n",
    "\n",
    "    # --------- record output ----------\n",
    "\n",
    "    num_ad += 1\n",
    "    output = [str(page_identifier),str(num_ad),str(title_clean),str(ad_content)]    \n",
    "    final_output.append( '|'.join(output) )\n",
    "\n",
    "final_output_file = open('structured_posting.txt','w')\n",
    "final_output_file.write('\\n'.join(final_output))\n",
    "final_output_file.close()"
   ]
  },
  {
   "cell_type": "code",
   "execution_count": 19,
   "metadata": {},
   "outputs": [
    {
     "name": "stdout",
     "output_type": "stream",
     "text": [
      "Globe_displayad_19790114_226|1|medical help nuclear radiologic tech|full time day po ition is available for registred or registry technician in our nuclear medicine department this position does require taking call\n",
      "Globe_displayad_19790114_226|2|chest physical therapist|if you are or registry eligible physical trhrapist interested in chest therapy consider the new england baptist hospital responsibilities will include providng chest therapy for medical surgical patients family teaching interdisciplinary inservice programs and more for more information please contact our personnel department 738-5800 , ext 255 . an equal opportunity employer\n",
      "Globe_displayad_19790114_226|3||41 pa hii boston\n",
      "Globe_displayad_19790114_226|4|manager of primary care programs|children's hospital medical center seeks dynamic creative individual to manage its primary care programs including 24-hour emergency room primary care program the massachusetts poison information center and dental services this position requires 3-5 years experience with background in planning budgeting and managing health programs masters degree preferred but additional experience may be substituted we offer salary commensurate with experience and fine fringe benefits package please forward resumes to helena wallace personnel office\n",
      "Globe_displayad_19790114_226|5|medical|300 lonjwood avenue\n",
      "Globe_displayad_19790114_226|6||ma 0211 registered registry eligible or immi ate available in our modern well- and fu ly accredited 173-bed general hospital cheshire hospilal is 80 miles from boston and near skiing water sports hunting and fishing apphcants must be registered registry eligible or nert for further information please contact the personrel department\n",
      "Globe_displayad_19790114_226|7||cheshire hospital 580 court street keene nh 03431\n",
      "Globe_displayad_19790114_226|8||equ ply\n",
      "Globe_displayad_19790114_226|9|mf medical group manager|for north shore group of 9 physicians internal medicine radiclogy in physician-owned building managerial and business skills required knowledge of accounting essential familiarity with care field desirable apply to and include salary range expected walter o'donnell\n",
      "Globe_displayad_19790114_226|10|cape ann medical center|gloucester mass 01930\n",
      "Globe_displayad_19790114_226|11||'s 's immediate openings on rotating evening and night shifts for 's and 's for float pool assignments experience in acuto nursing degree preferred for\n",
      "Globe_displayad_19790114_226|12|rn|\n",
      "Globe_displayad_19790114_226|13|apply personnel department cape cod hospital|hyannis ma 02601\n",
      "Globe_displayad_19790114_226|14||an qual\n",
      "Globe_displayad_19790114_226|15|medical records supervisor|challenging for capable professional to assume su responsib mly of meaical records department involvement with all aspects medical records process with exception of ion requires 2-3 years supervisory experience candilate should be art rra registered or eligible for amaraexam please send resume qnd requirements in confidence to director of personnel\n",
      "Globe_displayad_19790114_226|16||the malden hospital1 hospital road malden mass 02148\n",
      "Globe_displayad_19790114_226|17||-1pwo rtu\n",
      "Globe_displayad_19790114_226|18|medical receptionist|heavy manuscript typing gree inq patients and secretarial duties kno of medical ro yping 65 wpm synd resume to dobra kiley -davis 50 binney strett boston ma 02115\n"
     ]
    }
   ],
   "source": [
    "structured_posting = open('structured_posting.txt').read()\n",
    "structured_posting = re.split('\\n',structured_posting)\n",
    "for ad in structured_posting:\n",
    "    print(ad)"
   ]
  }
 ],
 "metadata": {
  "kernelspec": {
   "display_name": "Python 3",
   "language": "python",
   "name": "python3"
  },
  "language_info": {
   "codemirror_mode": {
    "name": "ipython",
    "version": 3
   },
   "file_extension": ".py",
   "mimetype": "text/x-python",
   "name": "python",
   "nbconvert_exporter": "python",
   "pygments_lexer": "ipython3",
   "version": "3.6.1"
  }
 },
 "nbformat": 4,
 "nbformat_minor": 1
}
