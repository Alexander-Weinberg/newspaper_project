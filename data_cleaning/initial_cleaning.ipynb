{
 "cells": [
  {
   "cell_type": "markdown",
   "metadata": {},
   "source": [
    "# The Initial Text Cleaning\n",
    "A supplementary material to \"The Evolving U.S. Occupational Structure: A Textual Analysis.\"  \n",
    "***"
   ]
  },
  {
   "cell_type": "markdown",
   "metadata": {},
   "source": [
    "This IPython notebook demonstrates initial processing of the raw text, provided by ProQuest. The main components of this step are to retrieve document metadata, to remove markup from the newspaper text, and to perform an initial spell-check of the text.\n",
    "\n",
    "* [Project data library](http://ssc.wisc.edu/~eatalay/occupation_data.html) \n",
    "\n",
    "* [The most recent version of the paper](\n",
    "http://ssc.wisc.edu/~eatalay/skills.pdf)\n",
    "\n",
    "\n",
    "<div class=\"span5 alert alert-info\">\n",
    "<b> Due to copyright restrictions, we are not authorized to publish a large body of unprocessed text files. </b>\n",
    "</div>"
   ]
  },
  {
   "cell_type": "markdown",
   "metadata": {},
   "source": [
    "### List of auxiliary files (see project data library or GitHub profile)"
   ]
  },
  {
   "cell_type": "markdown",
   "metadata": {},
   "source": [
    "* *compute_spelling.py* : This python function computes ratio of correctly-spelled words and records all correctly-spelled words.\n",
    "* *edit_distance.py* : This python function computes string edit distance.\n",
    "* *OCRcorrect_enchant.py* : This python function performs basic spelling error correction using python's enchant module.\n",
    "* *OCRcorrect_hyphen.py* : This python function corrects hyphenated words.\n",
    "* *OCRcorrect_substitute.py* : This python function performs frequently-occurred spelling error correction. \n",
    "* *PWL.txt* : This file contains words such as software and state names that are not contained in the dictionary provided by python's enchant module.\n",
    "***\n",
    "### Import necessary modules"
   ]
  },
  {
   "cell_type": "code",
   "execution_count": 1,
   "metadata": {},
   "outputs": [],
   "source": [
    "import os\n",
    "import re\n",
    "\n",
    "# spelling correction-related modules \n",
    "from compute_spelling import *\n",
    "from edit_distance import *\n",
    "from OCRcorrect_enchant import *\n",
    "from OCRcorrect_hyphen import *"
   ]
  },
  {
   "cell_type": "markdown",
   "metadata": {},
   "source": [
    "### Define functions for initial text cleaning"
   ]
  },
  {
   "cell_type": "code",
   "execution_count": 2,
   "metadata": {},
   "outputs": [],
   "source": [
    "def RemoveCharacters(text):\n",
    "    # This function removes some non-grammatical characters \n",
    "    # and add extra spaces to punctuations in order to facilitate \n",
    "    # spelling error correction.\n",
    "    output = text\n",
    "    output = output.replace('\"','')\n",
    "    output = output.replace('.', ' . ')\n",
    "    output = output.replace(',', ' , ')\n",
    "    output = output.replace('?', ' ? ')\n",
    "    output = output.replace('(', ' ( ')\n",
    "    output = output.replace(')', ' ) ')\n",
    "    output = output.replace('$', ' $ ')\n",
    "    output = output.replace(';',' ; ')\n",
    "    output = output.replace('!',' ! ')\n",
    "    output = output.replace('}','')\n",
    "    output = output.replace('{','')\n",
    "    output = output.replace('/',' ')\n",
    "    output = output.replace('_',' ')\n",
    "    output = output.replace('*','')\n",
    "    return output\n",
    "\n",
    "def CleanXML(text):\n",
    "    # This function removes markups\n",
    "    \n",
    "    output = text #initialize output\n",
    "    \n",
    "    # '&amp;lt;/p&amp;gt;' and '&amp;lt;p&amp;gt;' are line-breaks\n",
    "    NewlinePattern = re.compile( re.escape('&amp;lt;/p&amp;gt;') \n",
    "                                + '|' \n",
    "                                + re.escape('&amp;lt;p&amp;gt;') )\n",
    "    \n",
    "    output = re.sub(NewlinePattern,'\\n',output)\n",
    "    \n",
    "    # replace all other markups\n",
    "\n",
    "    XMLmarkups = ['name=&amp;quot;ValidationSchema&amp;quot;', \n",
    "                   'content=&amp;quot;', \n",
    "                   '&amp;quot;/&amp;gt;', \n",
    "                   '&amp;lt;meta']\n",
    "    \n",
    "    for pattern in XMLmarkups: \n",
    "        output = re.sub(re.escape(pattern),'',output , re.IGNORECASE)\n",
    "        \n",
    "    html_header = re.compile(re.escape('&amp;lt;') \n",
    "                             + '/?html/?' \n",
    "                             + re.escape('&amp;gt;'))\n",
    "    \n",
    "    output = re.sub(html_header,'',output)\n",
    "    \n",
    "    body_header = re.compile(re.escape('&amp;lt;') \n",
    "                             + '/?body/?' \n",
    "                             + re.escape('&amp;gt;'))\n",
    "    \n",
    "    output = re.sub(body_header,'',output)\n",
    "    \n",
    "    title_header = re.compile(re.escape('&amp;lt;') \n",
    "                              + '/?title/?' \n",
    "                              + re.escape('&amp;gt;'))\n",
    "    \n",
    "    output = re.sub(title_header,'',output)\n",
    "    \n",
    "    head_header = re.compile(re.escape('&amp;lt;') \n",
    "                             + '/?head/?' \n",
    "                             + re.escape('&amp;gt;'))\n",
    "    \n",
    "    output = re.sub(head_header,'',output)\n",
    "\n",
    "    HTTPpattern = re.compile( re.escape('http://') + '\\S*'  \n",
    "                             + re.escape('.xsd') )\n",
    "\n",
    "    output = re.sub(HTTPpattern,'',output)\n",
    "    output = re.sub(re.escape('&amp;quot;'),'\"',output)\n",
    "    output = re.sub(re.escape('&amp;apos;'),\"'\",output)\n",
    "    output = re.sub(re.escape('&amp;amp;'),\"&\",output)\n",
    "    output = re.sub(re.escape('&amp'),'',output)\n",
    "    output = re.sub(re.escape('&lt;'),'',output)\n",
    "    output = re.sub(re.escape('&gt;'),'',output)\n",
    "    output = RemoveCharacters(output)\n",
    "        \n",
    "    return ' '.join([w for w in re.split(' ',output) if not w==''])\n",
    "\n",
    "def ExtractElement(text,field):\n",
    "    # This function takes input string (text) and looks for markups.\n",
    "    # input \"field\" is a specific element that the code looks for.\n",
    "    # For example, the page title can be located in the text as:   \n",
    "    # <recordtitle> Display Ad 33 -- No Title </recordtitle>\n",
    "    # Here, \"field\" variable is \"recordtitle\".\n",
    "    # (Note: all searches are not case-sensitive.)\n",
    "\n",
    "    beginMarkup = '<' + field + '>' #example: <recordtitle> \n",
    "    endMarkup = '</' + field + '>' #example: </recordtitle>\n",
    "\n",
    "    textNoLineBreak = re.sub(r'\\n|\\r\\n','',text) #delete the line break\n",
    "\n",
    "    # Windows and Linux use different line break ('\\n' vs '\\r\\n')\n",
    "\n",
    "    ElementPattern = re.compile( re.escape(beginMarkup) + '.*' + re.escape(endMarkup), re.IGNORECASE )\n",
    "    ElementMarkup = re.compile( re.escape(beginMarkup) + '|' + re.escape(endMarkup), re.IGNORECASE)\n",
    "\n",
    "    DetectElement = re.findall(ElementPattern,textNoLineBreak)\n",
    "    \n",
    "    #strip markup\n",
    "    Content = str(re.sub(ElementMarkup,'',str(DetectElement[0]))) \n",
    "    \n",
    "    #reset space\n",
    "    Content = ' '.join([w for w in re.split(' ',Content) if not w=='']) \n",
    "    \n",
    "    return Content\n",
    "\n",
    "def AssignAdIdentifier(text, journal):\n",
    "    # This function assigns ad identifier.\n",
    "    # For example, 'WSJ_classifiedad_19780912_45'\n",
    "    # 'WSJ' is the journal name specified by the user\n",
    "    # 'classifiedad' refers to Classified Ad page\n",
    "    # '19780912' is the publication date\n",
    "    # '45' is the page number\n",
    "    \n",
    "    recordtitle = ExtractElement(text,'recordtitle')\n",
    "    Match = re.findall('Ad \\d+ -- No Title',recordtitle,re.IGNORECASE)\n",
    "    \n",
    "    if Match:\n",
    "        \n",
    "        if re.findall('Display Ad',recordtitle,re.IGNORECASE):\n",
    "            ad_type = 'displayad'\n",
    "        elif re.findall('Classified Ad',recordtitle,re.IGNORECASE): \n",
    "            ad_type = 'classifiedad'\n",
    "        \n",
    "        ad_number = re.findall('\\d+',recordtitle)[0]\n",
    "        \n",
    "        numericpubdate = ExtractElement(text,'numericpubdate')\n",
    "        pub_date = re.findall('\\d{8}',numericpubdate)[0]\n",
    "        \n",
    "        output = '_'.join([journal,ad_type,pub_date,ad_number])\n",
    "    else:\n",
    "        output = None\n",
    "        \n",
    "    return output"
   ]
  },
  {
   "cell_type": "markdown",
   "metadata": {},
   "source": [
    "### Import raw text file\n",
    "Note: This IPython notebook provides an example of the 45th page of classified ads in the September 12, 1978 edition of the Wall Street Journal."
   ]
  },
  {
   "cell_type": "code",
   "execution_count": 3,
   "metadata": {},
   "outputs": [
    {
     "name": "stdout",
     "output_type": "stream",
     "text": [
      "<?xml version=\"1.0\" encoding=\"UTF-8\"?><record> <version>  TDM_Record_v1.0.xsd </version> <recordid>  4a667155d557ab68c878224bc3de0979 </recordid> <recordtitle>  Classified Ad 45 -- No Title </recordtitle> <alphapubdate>  Sep 12, 1978 </alphapubdate> <numericpubdate>  19780912 </numericpubdate> <objecttype>  classified_ad </objecttype> <objecttype>  Classified Advertisement </objecttype> <objecttype>  Advertisement </objecttype> <copyright>  Copyright Dow Jones &amp; Company Inc Sep 12, 1978 </copyright> <languagecode>  English </languagecode> <groupid>  506733 </groupid> <pubid>  45441 </pubid> <pubtitle>  Wall Street Journal  (1923 - Current file) </pubtitle> <fulltext>  &amp;lt;html&amp;gt;             &amp;lt;head&amp;gt;               &amp;lt;meta name=&amp;quot;ValidationSchema&amp;quot; content=&amp;quot;http://www.w3.org/2002/08/xhtml/xhtml1-strict.xsd&amp;quot;/&amp;gt;               &amp;lt;title/&amp;gt;             &amp;lt;/head&amp;gt;             &amp;lt;body&amp;gt;               &amp;lt;p&amp;gt; Singer has long been one of the world s gr &amp;apos; pacesetters in volume manufacturing of intricate, &amp;lt;/p&amp;gt;               &amp;lt;p&amp;gt; precision machines that achieve extreme reliability and durability. Our sewing machines are in use around the globe in every kind of climate. As pioneers in electronic sewing machines, we have again set new standards. &amp;lt;/p&amp;gt;               &amp;lt;p&amp;gt; ELECTROMECHANICAL ENGINEERS, &amp;lt;/p&amp;gt;               &amp;lt;p&amp;gt; Minimum of 6 eara experience in developing of electromechanical consumer or atm&amp;amp;gt;lar products. BSME or BSEE degree required, &amp;lt;/p&amp;gt;               &amp;lt;p&amp;gt; advanced degree preferred. &amp;lt;/p&amp;gt;               &amp;lt;p&amp;gt; ELECTRONIC ENGINEERS MECHANICAL ENGINEERS &amp;lt;/p&amp;gt;               &amp;lt;p&amp;gt; A least 2+ years is needed in one of 2+ years of practical in mechanisms the following areas: and machine design analysis. Working know! edga of computers as a design tool would be &amp;lt;/p&amp;gt;               &amp;lt;p&amp;gt; 1) Analog and digital industrial electron helpful. Experience in sophisticated , with microprocessor and CAD knowl chanical products. Background should include edge desirable; mechanism or gear or machine design 2) Analog sad digital circuitry, logic de and analysis. Knowledge of computers as , PC bond design, ISI and minicom neering ardes helpful &amp;lt;/p&amp;gt;               &amp;lt;p&amp;gt; puter ; &amp;lt;/p&amp;gt;               &amp;lt;p&amp;gt; S) Application of mini and micro-computers including , and hardware de- &amp;lt;/p&amp;gt;               &amp;lt;p&amp;gt; bugging of analog and digital circuitry. &amp;lt;/p&amp;gt;               &amp;lt;p&amp;gt; DESIGNERS, JUNIOR SPECIALIST AND SENIOR &amp;lt;/p&amp;gt;               &amp;lt;p&amp;gt; Ezperience in fractional and AC 1-8 Years experience in precision high toler _ and DC motors and motor control system as ante design of mechanical devices and/or circuit well as other electromechanical devices. layout. Intricate detailing experience mandato- &amp;lt;/p&amp;gt;               &amp;lt;p&amp;gt; ry. Singer offers attractive salaries, benefits and professional working conditions, and very favorable career . These positions are located at our Elizabeth, New Jersey facility and at our R&amp;amp;amp;D Laboratory in Fairfield, New Jersey. &amp;lt;/p&amp;gt;               &amp;lt;p&amp;gt; Please send resume stating position of interest in confidence to: &amp;lt;/p&amp;gt;               &amp;lt;p&amp;gt; Hosie Scott, Employment Manager &amp;lt;/p&amp;gt;               &amp;lt;p&amp;gt; or call (201) 527-6166 or 67 &amp;lt;/p&amp;gt;               &amp;lt;p&amp;gt; SINGER &amp;lt;/p&amp;gt;               &amp;lt;p&amp;gt; DIVERSIFIED WORL. 321 First Street &amp;lt;/p&amp;gt;               &amp;lt;p&amp;gt; Elizabeth, New Jersey 07207 An Equal Opportunity Employer M/F &amp;lt;/p&amp;gt;             &amp;lt;/body&amp;gt;           &amp;lt;/html&amp;gt; </fulltext></record>\n"
     ]
    }
   ],
   "source": [
    "# input files\n",
    "input_files = 'ad_sample.txt'\n",
    "\n",
    "# bring in raw ads \n",
    "raw_ad = open(input_files).read()\n",
    "print(raw_ad)"
   ]
  },
  {
   "cell_type": "markdown",
   "metadata": {},
   "source": [
    "### Extract relevant information\n",
    "* Assign a unique identifier for each newpaper page that is either Display Ad or Classified Ad."
   ]
  },
  {
   "cell_type": "code",
   "execution_count": 4,
   "metadata": {},
   "outputs": [
    {
     "name": "stdout",
     "output_type": "stream",
     "text": [
      "WSJ_classifiedad_19780912_45\n"
     ]
    }
   ],
   "source": [
    "ad_identifier = AssignAdIdentifier(raw_ad, 'WSJ')\n",
    "print(ad_identifier)"
   ]
  },
  {
   "cell_type": "markdown",
   "metadata": {},
   "source": [
    "* Extract actual posting and remove xml markups"
   ]
  },
  {
   "cell_type": "code",
   "execution_count": 5,
   "metadata": {},
   "outputs": [
    {
     "name": "stdout",
     "output_type": "stream",
     "text": [
      "\n",
      " Singer has long been one of the world s gr ' pacesetters in volume manufacturing of intricate , \n",
      " \n",
      " precision machines that achieve extreme reliability and durability . Our sewing machines are in use around the globe in every kind of climate . As pioneers in electronic sewing machines , we have again set new standards . \n",
      " \n",
      " ELECTROMECHANICAL ENGINEERS , \n",
      " \n",
      " Minimum of 6 eara experience in developing of electromechanical consumer or atmlar products . BSME or BSEE degree required , \n",
      " \n",
      " advanced degree preferred . \n",
      " \n",
      " ELECTRONIC ENGINEERS MECHANICAL ENGINEERS \n",
      " \n",
      " A least 2+ years is needed in one of 2+ years of practical in mechanisms the following areas: and machine design analysis . Working know ! edga of computers as a design tool would be \n",
      " \n",
      " 1 ) Analog and digital industrial electron helpful . Experience in sophisticated , with microprocessor and CAD knowl chanical products . Background should include edge desirable ; mechanism or gear or machine design 2 ) Analog sad digital circuitry , logic de and analysis . Knowledge of computers as , PC bond design , ISI and minicom neering ardes helpful \n",
      " \n",
      " puter ; \n",
      " \n",
      " S ) Application of mini and micro-computers including , and hardware de- \n",
      " \n",
      " bugging of analog and digital circuitry . \n",
      " \n",
      " DESIGNERS , JUNIOR SPECIALIST AND SENIOR \n",
      " \n",
      " Ezperience in fractional and AC 1-8 Years experience in precision high toler and DC motors and motor control system as ante design of mechanical devices and or circuit well as other electromechanical devices . layout . Intricate detailing experience mandato- \n",
      " \n",
      " ry . Singer offers attractive salaries , benefits and professional working conditions , and very favorable career . These positions are located at our Elizabeth , New Jersey facility and at our R ; D Laboratory in Fairfield , New Jersey . \n",
      " \n",
      " Please send resume stating position of interest in confidence to: \n",
      " \n",
      " Hosie Scott , Employment Manager \n",
      " \n",
      " or call ( 201 ) 527-6166 or 67 \n",
      " \n",
      " SINGER \n",
      " \n",
      " DIVERSIFIED WORL . 321 First Street \n",
      " \n",
      " Elizabeth , New Jersey 07207 An Equal Opportunity Employer M F \n",
      "\n"
     ]
    }
   ],
   "source": [
    "# extract <fulltext> field \n",
    "fulltext = ExtractElement(raw_ad,'fulltext')\n",
    "# remove xml markups\n",
    "posting = CleanXML(fulltext)\n",
    "print(posting)"
   ]
  },
  {
   "cell_type": "code",
   "execution_count": 6,
   "metadata": {},
   "outputs": [
    {
     "name": "stdout",
     "output_type": "stream",
     "text": [
      "Singer has long been one of the world s gr ' pacesetters in volume manufacturing of intricate ,\n",
      "precision machines that achieve extreme reliability and durability . Our sewing machines are in use around the globe in every kind of climate . As pioneers in electronic sewing machines , we have again set new standards .\n",
      "ELECTROMECHANICAL ENGINEERS ,\n",
      "Minimum of 6 Meara experience in developing of electromechanical consumer or atmlar products . BSME or B SEE degree required ,\n",
      "advanced degree preferred .\n",
      "ELECTRONIC ENGINEERS MECHANICAL ENGINEERS\n",
      "A least 2+ years is needed in one of 2+ years of practical in mechanisms the following areas and machine design analysis . Working know ! Edgar of computers as a design tool would be\n",
      "1 ) Analog and digital industrial electron helpful . Experience in sophisticated , with microprocessor and CAD kn owl mechanical products . Background should include edge desirable ; mechanism or gear or machine design 2 ) Analog sad digital circuitry , logic de and analysis . Knowledge of computers as , PC bond design , IS I and mini com sneering ares helpful\n",
      "pouter ;\n",
      "S ) Application of mini and microcomputers including , and hardware de-\n",
      "bugging of analog and digital circuitry .\n",
      "DESIGNERS , JUNIOR SPECIALIST AND SENIOR\n",
      "Experience in fractional and AC 1-8 Years experience in precision high tooler and DC motors and motor control system as ante design of mechanical devices and or circuit well as other electromechanical devices . layout . Intricate detailing experience mandatory\n",
      "ry . Singer offers attractive salaries , benefits and professional working conditions , and very favorable career . These positions are located at our Elizabeth , New Jersey facility and at our R ; D Laboratory in Fairfield , New Jersey .\n",
      "Please send resume stating position of interest in confidence to:\n",
      "Hosier Scott , Employment Manager\n",
      "or call ( 201 ) 527-6166 or 67\n",
      "SINGER\n",
      "DIVERSIFIED WHORL . 321 First Street\n",
      "Elizabeth , New Jersey 07207 An Equal Opportunity Employer M F\n"
     ]
    }
   ],
   "source": [
    "posting_by_line = [w for w in re.split('\\n',posting) if len(w)>0] \n",
    "clean_posting_by_line = list()\n",
    "        \n",
    "for line in posting_by_line:\n",
    "    clean_line = line\n",
    "    # spelling error correction\n",
    "    clean_line = CorrectHyphenated(clean_line, 'PWL.txt')\n",
    "    clean_line = EnchantErrorCorrection(clean_line, 'PWL.txt')\n",
    "    clean_line = ' '.join([w for w in re.split(' ',clean_line) if not w==''])  \n",
    "    clean_posting_by_line.append(clean_line)\n",
    "\n",
    "# remove empty lines\n",
    "clean_posting_by_line = [w for w in clean_posting_by_line if not w=='']\n",
    "\n",
    "# print final output of this step\n",
    "print('\\n'.join(clean_posting_by_line))"
   ]
  }
 ],
 "metadata": {
  "kernelspec": {
   "display_name": "Python 3",
   "language": "python",
   "name": "python3"
  },
  "language_info": {
   "codemirror_mode": {
    "name": "ipython",
    "version": 3
   },
   "file_extension": ".py",
   "mimetype": "text/x-python",
   "name": "python",
   "nbconvert_exporter": "python",
   "pygments_lexer": "ipython3",
   "version": "3.6.1"
  }
 },
 "nbformat": 4,
 "nbformat_minor": 1
}
